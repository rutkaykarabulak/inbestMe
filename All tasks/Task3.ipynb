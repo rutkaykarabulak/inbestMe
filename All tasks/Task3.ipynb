{
 "cells": [
  {
   "cell_type": "markdown",
   "metadata": {},
   "source": [
    "# Task 3: Relationship between total return of users and their Mifid scores\n",
    "\n",
    "Files that we're going to use to solve problem\n",
    "* AccountInvestorSurvey.xlsx (to get mfid scores)\n",
    "* InvestorAccountHistory.xlsx (to get total return)\n"
   ]
  },
  {
   "cell_type": "markdown",
   "metadata": {},
   "source": [
    "## Part 1: Understand the Problem\n",
    "\n",
    "Our objective is to see relationship between mfid score and total return of account.\n",
    "What is mfid score? \n",
    "* Mfid score is profile of investor, we have 11 different profile from 0 to 10\n",
    "*  0 means less risk, less volatility, less return\n",
    "*  10 means more risk, more volatility, more return"
   ]
  },
  {
   "cell_type": "markdown",
   "metadata": {},
   "source": [
    "### Type of the problem\n",
    "\n",
    "* We clearly see that to solve this problem we will use supervised learning, linear regression is one of the solution that first comes our mind which consists of predicting a continuous value, for example predicting the temperature tomorrow, given meteorological data, or predicting the time that a software project will take to complete\n",
    "\n",
    "**We will try to use mfid scores to predict investors total return in this section**\n",
    "\n",
    "List of approaches we will use to solve problem:\n",
    "* We will create a basic linear regression model\n",
    "* We will use multiple regression, because other features in our data might be affective to predict return pct of investors"
   ]
  },
  {
   "cell_type": "code",
   "execution_count": 1,
   "metadata": {
    "scrolled": true
   },
   "outputs": [
    {
     "name": "stderr",
     "output_type": "stream",
     "text": [
      "Using TensorFlow backend.\n"
     ]
    },
    {
     "data": {
      "text/plain": [
       "'2.3.1'"
      ]
     },
     "execution_count": 1,
     "metadata": {},
     "output_type": "execute_result"
    }
   ],
   "source": [
    "import keras\n",
    "keras.__version__"
   ]
  },
  {
   "cell_type": "code",
   "execution_count": 2,
   "metadata": {},
   "outputs": [],
   "source": [
    "# Importing required libraries\n",
    "import pandas as pd\n",
    "import numpy as np\n",
    "import matplotlib.pyplot as plt"
   ]
  },
  {
   "cell_type": "markdown",
   "metadata": {},
   "source": [
    "### Prepare the Data"
   ]
  },
  {
   "cell_type": "code",
   "execution_count": 3,
   "metadata": {},
   "outputs": [
    {
     "data": {
      "text/html": [
       "<div>\n",
       "<style scoped>\n",
       "    .dataframe tbody tr th:only-of-type {\n",
       "        vertical-align: middle;\n",
       "    }\n",
       "\n",
       "    .dataframe tbody tr th {\n",
       "        vertical-align: top;\n",
       "    }\n",
       "\n",
       "    .dataframe thead th {\n",
       "        text-align: right;\n",
       "    }\n",
       "</style>\n",
       "<table border=\"1\" class=\"dataframe\">\n",
       "  <thead>\n",
       "    <tr style=\"text-align: right;\">\n",
       "      <th></th>\n",
       "      <th>Mifid</th>\n",
       "      <th>ReturnPct</th>\n",
       "    </tr>\n",
       "    <tr>\n",
       "      <th>AccountId</th>\n",
       "      <th></th>\n",
       "      <th></th>\n",
       "    </tr>\n",
       "  </thead>\n",
       "  <tbody>\n",
       "    <tr>\n",
       "      <th>1</th>\n",
       "      <td>7.23125</td>\n",
       "      <td>27.476871</td>\n",
       "    </tr>\n",
       "    <tr>\n",
       "      <th>3</th>\n",
       "      <td>5.51250</td>\n",
       "      <td>27.333140</td>\n",
       "    </tr>\n",
       "    <tr>\n",
       "      <th>4</th>\n",
       "      <td>9.21875</td>\n",
       "      <td>19.178523</td>\n",
       "    </tr>\n",
       "    <tr>\n",
       "      <th>5</th>\n",
       "      <td>7.50000</td>\n",
       "      <td>27.170163</td>\n",
       "    </tr>\n",
       "    <tr>\n",
       "      <th>7</th>\n",
       "      <td>7.44375</td>\n",
       "      <td>26.574040</td>\n",
       "    </tr>\n",
       "    <tr>\n",
       "      <th>...</th>\n",
       "      <td>...</td>\n",
       "      <td>...</td>\n",
       "    </tr>\n",
       "    <tr>\n",
       "      <th>7136</th>\n",
       "      <td>3.00000</td>\n",
       "      <td>0.000000</td>\n",
       "    </tr>\n",
       "    <tr>\n",
       "      <th>7138</th>\n",
       "      <td>7.12500</td>\n",
       "      <td>0.000000</td>\n",
       "    </tr>\n",
       "    <tr>\n",
       "      <th>7139</th>\n",
       "      <td>10.00000</td>\n",
       "      <td>0.000000</td>\n",
       "    </tr>\n",
       "    <tr>\n",
       "      <th>NaN</th>\n",
       "      <td>NaN</td>\n",
       "      <td>NaN</td>\n",
       "    </tr>\n",
       "    <tr>\n",
       "      <th>(634 rows affected)</th>\n",
       "      <td>NaN</td>\n",
       "      <td>NaN</td>\n",
       "    </tr>\n",
       "  </tbody>\n",
       "</table>\n",
       "<p>636 rows × 2 columns</p>\n",
       "</div>"
      ],
      "text/plain": [
       "                        Mifid  ReturnPct\n",
       "AccountId                               \n",
       "1                     7.23125  27.476871\n",
       "3                     5.51250  27.333140\n",
       "4                     9.21875  19.178523\n",
       "5                     7.50000  27.170163\n",
       "7                     7.44375  26.574040\n",
       "...                       ...        ...\n",
       "7136                  3.00000   0.000000\n",
       "7138                  7.12500   0.000000\n",
       "7139                 10.00000   0.000000\n",
       "NaN                       NaN        NaN\n",
       "(634 rows affected)       NaN        NaN\n",
       "\n",
       "[636 rows x 2 columns]"
      ]
     },
     "execution_count": 3,
     "metadata": {},
     "output_type": "execute_result"
    }
   ],
   "source": [
    "# Let's fetch our dataframe first\n",
    "\n",
    "# This is the list of data that we only interest\n",
    "list = [\"AccountId\", \"Mifid\", \"ReturnPct\"]\n",
    "df = pd.read_excel(\"./Project/data/AccountsInvestorSurvey.xlsx\", index_col=\"AccountId\", usecols=list)\n",
    "df"
   ]
  },
  {
   "cell_type": "code",
   "execution_count": 4,
   "metadata": {},
   "outputs": [
    {
     "data": {
      "text/plain": [
       "Mifid        2\n",
       "ReturnPct    2\n",
       "dtype: int64"
      ]
     },
     "execution_count": 4,
     "metadata": {},
     "output_type": "execute_result"
    }
   ],
   "source": [
    "# Is there any null values?\n",
    "df.isnull().sum()"
   ]
  },
  {
   "cell_type": "code",
   "execution_count": 5,
   "metadata": {},
   "outputs": [],
   "source": [
    "# Delete last two row\n",
    "df.drop(df.tail(2).index,inplace=True) # drop last n rows"
   ]
  },
  {
   "cell_type": "code",
   "execution_count": 6,
   "metadata": {},
   "outputs": [
    {
     "data": {
      "text/html": [
       "<div>\n",
       "<style scoped>\n",
       "    .dataframe tbody tr th:only-of-type {\n",
       "        vertical-align: middle;\n",
       "    }\n",
       "\n",
       "    .dataframe tbody tr th {\n",
       "        vertical-align: top;\n",
       "    }\n",
       "\n",
       "    .dataframe thead th {\n",
       "        text-align: right;\n",
       "    }\n",
       "</style>\n",
       "<table border=\"1\" class=\"dataframe\">\n",
       "  <thead>\n",
       "    <tr style=\"text-align: right;\">\n",
       "      <th></th>\n",
       "      <th>Mifid</th>\n",
       "      <th>ReturnPct</th>\n",
       "    </tr>\n",
       "    <tr>\n",
       "      <th>AccountId</th>\n",
       "      <th></th>\n",
       "      <th></th>\n",
       "    </tr>\n",
       "  </thead>\n",
       "  <tbody>\n",
       "    <tr>\n",
       "      <th>1</th>\n",
       "      <td>7.23125</td>\n",
       "      <td>27.476871</td>\n",
       "    </tr>\n",
       "    <tr>\n",
       "      <th>3</th>\n",
       "      <td>5.51250</td>\n",
       "      <td>27.333140</td>\n",
       "    </tr>\n",
       "    <tr>\n",
       "      <th>4</th>\n",
       "      <td>9.21875</td>\n",
       "      <td>19.178523</td>\n",
       "    </tr>\n",
       "    <tr>\n",
       "      <th>5</th>\n",
       "      <td>7.50000</td>\n",
       "      <td>27.170163</td>\n",
       "    </tr>\n",
       "    <tr>\n",
       "      <th>7</th>\n",
       "      <td>7.44375</td>\n",
       "      <td>26.574040</td>\n",
       "    </tr>\n",
       "  </tbody>\n",
       "</table>\n",
       "</div>"
      ],
      "text/plain": [
       "             Mifid  ReturnPct\n",
       "AccountId                    \n",
       "1          7.23125  27.476871\n",
       "3          5.51250  27.333140\n",
       "4          9.21875  19.178523\n",
       "5          7.50000  27.170163\n",
       "7          7.44375  26.574040"
      ]
     },
     "execution_count": 6,
     "metadata": {},
     "output_type": "execute_result"
    }
   ],
   "source": [
    "# Our dataFrame is ready.\n",
    "df.head()"
   ]
  },
  {
   "cell_type": "code",
   "execution_count": 7,
   "metadata": {},
   "outputs": [
    {
     "data": {
      "text/html": [
       "<div>\n",
       "<style scoped>\n",
       "    .dataframe tbody tr th:only-of-type {\n",
       "        vertical-align: middle;\n",
       "    }\n",
       "\n",
       "    .dataframe tbody tr th {\n",
       "        vertical-align: top;\n",
       "    }\n",
       "\n",
       "    .dataframe thead th {\n",
       "        text-align: right;\n",
       "    }\n",
       "</style>\n",
       "<table border=\"1\" class=\"dataframe\">\n",
       "  <thead>\n",
       "    <tr style=\"text-align: right;\">\n",
       "      <th></th>\n",
       "      <th>Mifid</th>\n",
       "      <th>ReturnPct</th>\n",
       "    </tr>\n",
       "    <tr>\n",
       "      <th>AccountId</th>\n",
       "      <th></th>\n",
       "      <th></th>\n",
       "    </tr>\n",
       "  </thead>\n",
       "  <tbody>\n",
       "    <tr>\n",
       "      <th>368</th>\n",
       "      <td>8.12500</td>\n",
       "      <td>0.0</td>\n",
       "    </tr>\n",
       "    <tr>\n",
       "      <th>524</th>\n",
       "      <td>5.56875</td>\n",
       "      <td>0.0</td>\n",
       "    </tr>\n",
       "    <tr>\n",
       "      <th>6031</th>\n",
       "      <td>3.00000</td>\n",
       "      <td>0.0</td>\n",
       "    </tr>\n",
       "    <tr>\n",
       "      <th>6045</th>\n",
       "      <td>9.06250</td>\n",
       "      <td>0.0</td>\n",
       "    </tr>\n",
       "    <tr>\n",
       "      <th>7122</th>\n",
       "      <td>7.28125</td>\n",
       "      <td>0.0</td>\n",
       "    </tr>\n",
       "    <tr>\n",
       "      <th>7131</th>\n",
       "      <td>9.53125</td>\n",
       "      <td>0.0</td>\n",
       "    </tr>\n",
       "    <tr>\n",
       "      <th>7136</th>\n",
       "      <td>3.00000</td>\n",
       "      <td>0.0</td>\n",
       "    </tr>\n",
       "    <tr>\n",
       "      <th>7138</th>\n",
       "      <td>7.12500</td>\n",
       "      <td>0.0</td>\n",
       "    </tr>\n",
       "    <tr>\n",
       "      <th>7139</th>\n",
       "      <td>10.00000</td>\n",
       "      <td>0.0</td>\n",
       "    </tr>\n",
       "  </tbody>\n",
       "</table>\n",
       "</div>"
      ],
      "text/plain": [
       "              Mifid  ReturnPct\n",
       "AccountId                     \n",
       "368         8.12500        0.0\n",
       "524         5.56875        0.0\n",
       "6031        3.00000        0.0\n",
       "6045        9.06250        0.0\n",
       "7122        7.28125        0.0\n",
       "7131        9.53125        0.0\n",
       "7136        3.00000        0.0\n",
       "7138        7.12500        0.0\n",
       "7139       10.00000        0.0"
      ]
     },
     "execution_count": 7,
     "metadata": {},
     "output_type": "execute_result"
    }
   ],
   "source": [
    "# How many account has zero return percentage?\n",
    "df.loc[df[\"ReturnPct\"] == 0]"
   ]
  },
  {
   "cell_type": "code",
   "execution_count": 8,
   "metadata": {},
   "outputs": [],
   "source": [
    "# Drop accounts who has 0 return value\n",
    "# We drop these accounts because they got into system with initial fund but they never use the system, they just had 0 return pct\n",
    "# they have no affect on data, so delete them\n",
    "df.drop(df[df[\"ReturnPct\"] == 0].index, inplace=True)"
   ]
  },
  {
   "cell_type": "code",
   "execution_count": 9,
   "metadata": {},
   "outputs": [
    {
     "data": {
      "text/html": [
       "<div>\n",
       "<style scoped>\n",
       "    .dataframe tbody tr th:only-of-type {\n",
       "        vertical-align: middle;\n",
       "    }\n",
       "\n",
       "    .dataframe tbody tr th {\n",
       "        vertical-align: top;\n",
       "    }\n",
       "\n",
       "    .dataframe thead th {\n",
       "        text-align: right;\n",
       "    }\n",
       "</style>\n",
       "<table border=\"1\" class=\"dataframe\">\n",
       "  <thead>\n",
       "    <tr style=\"text-align: right;\">\n",
       "      <th></th>\n",
       "      <th>Mifid</th>\n",
       "      <th>ReturnPct</th>\n",
       "    </tr>\n",
       "  </thead>\n",
       "  <tbody>\n",
       "    <tr>\n",
       "      <th>count</th>\n",
       "      <td>625.000000</td>\n",
       "      <td>625.000000</td>\n",
       "    </tr>\n",
       "    <tr>\n",
       "      <th>mean</th>\n",
       "      <td>7.008265</td>\n",
       "      <td>1379.755707</td>\n",
       "    </tr>\n",
       "    <tr>\n",
       "      <th>std</th>\n",
       "      <td>1.720624</td>\n",
       "      <td>32403.874834</td>\n",
       "    </tr>\n",
       "    <tr>\n",
       "      <th>min</th>\n",
       "      <td>2.021875</td>\n",
       "      <td>-148481.343386</td>\n",
       "    </tr>\n",
       "    <tr>\n",
       "      <th>25%</th>\n",
       "      <td>6.343750</td>\n",
       "      <td>1.653879</td>\n",
       "    </tr>\n",
       "    <tr>\n",
       "      <th>50%</th>\n",
       "      <td>7.387500</td>\n",
       "      <td>6.221038</td>\n",
       "    </tr>\n",
       "    <tr>\n",
       "      <th>75%</th>\n",
       "      <td>8.281250</td>\n",
       "      <td>9.579935</td>\n",
       "    </tr>\n",
       "    <tr>\n",
       "      <th>max</th>\n",
       "      <td>10.000000</td>\n",
       "      <td>621851.421352</td>\n",
       "    </tr>\n",
       "  </tbody>\n",
       "</table>\n",
       "</div>"
      ],
      "text/plain": [
       "            Mifid      ReturnPct\n",
       "count  625.000000     625.000000\n",
       "mean     7.008265    1379.755707\n",
       "std      1.720624   32403.874834\n",
       "min      2.021875 -148481.343386\n",
       "25%      6.343750       1.653879\n",
       "50%      7.387500       6.221038\n",
       "75%      8.281250       9.579935\n",
       "max     10.000000  621851.421352"
      ]
     },
     "execution_count": 9,
     "metadata": {},
     "output_type": "execute_result"
    }
   ],
   "source": [
    "# Basic statistic on data\n",
    "df.describe()"
   ]
  },
  {
   "cell_type": "markdown",
   "metadata": {},
   "source": [
    "### Correlation between mifid and returnpct\n",
    "\n",
    "What is correlation?\n",
    "\n",
    "Put in plain terms, correlation is a measure of how strongly one variable depends on another. It can be positive or negative.\n",
    "For example salaries and experience year and salariest might be have strong positive correlation. Most of the good regression models take it's power from good correlate values"
   ]
  },
  {
   "cell_type": "code",
   "execution_count": 10,
   "metadata": {},
   "outputs": [
    {
     "data": {
      "text/plain": [
       "<matplotlib.axes._subplots.AxesSubplot at 0x7f8799108410>"
      ]
     },
     "execution_count": 10,
     "metadata": {},
     "output_type": "execute_result"
    },
    {
     "data": {
      "image/png": "[encoded data removed]",
      "text/plain": [
       "<Figure size 432x288 with 2 Axes>"
      ]
     },
     "metadata": {
      "needs_background": "light"
     },
     "output_type": "display_data"
    }
   ],
   "source": [
    "# Let's take a look at correlation between Mifid score and return values\n",
    "import seaborn as sns\n",
    "corr = df.corr()\n",
    "sns.heatmap(corr, \n",
    "            xticklabels=corr.columns.values,\n",
    "            yticklabels=corr.columns.values)"
   ]
  },
  {
   "cell_type": "markdown",
   "metadata": {},
   "source": [
    "* Seems like corelation between mifid and returnpct  is really bad. Unfortunately this a bad sign to create a good model because, powerful models take their advantage from good correlated features."
   ]
  },
  {
   "cell_type": "markdown",
   "metadata": {},
   "source": [
    "###  Data Visualization"
   ]
  },
  {
   "cell_type": "code",
   "execution_count": 11,
   "metadata": {},
   "outputs": [
    {
     "data": {
      "image/png": "[encoded data removed]",
      "text/plain": [
       "<Figure size 1008x432 with 1 Axes>"
      ]
     },
     "metadata": {
      "needs_background": "light"
     },
     "output_type": "display_data"
    }
   ],
   "source": [
    "# Let's see the mifid scores on scatter plot\n",
    "# Plots are helping to us better understading data\n",
    "plt.figure(figsize=(14,6))\n",
    "sns.scatterplot(data=df[\"Mifid\"].values)\n",
    "plt.ylabel(\"Mifid\")\n",
    "plt.show()\n"
   ]
  },
  {
   "cell_type": "code",
   "execution_count": 12,
   "metadata": {
    "scrolled": true
   },
   "outputs": [
    {
     "data": {
      "text/plain": [
       "Text(0, 0.5, 'Return %')"
      ]
     },
     "execution_count": 12,
     "metadata": {},
     "output_type": "execute_result"
    },
    {
     "data": {
      "image/png": "[encoded data removed]",
      "text/plain": [
       "<Figure size 1008x432 with 1 Axes>"
      ]
     },
     "metadata": {
      "needs_background": "light"
     },
     "output_type": "display_data"
    }
   ],
   "source": [
    "# Let's plot return percentages\n",
    "plt.figure(figsize=(14,6))\n",
    "sns.scatterplot(data=df[(df[\"ReturnPct\"] < 100) & (df[\"ReturnPct\"] > -100)][\"ReturnPct\"].values)\n",
    "plt.ylabel(\"Return %\")"
   ]
  },
  {
   "cell_type": "markdown",
   "metadata": {},
   "source": [
    "Analysis: Most of our investors has percentage between %0 and %25, in the previous task we've calculated investor's performance against inflation and the rate was %77~, with all these observations we can assume that system is profitable for investors"
   ]
  },
  {
   "cell_type": "markdown",
   "metadata": {},
   "source": [
    "## Part 2: Simple linear regression\n",
    "\n",
    "* In this section we will create a simple linear regression model to predict return percentage according to mifid score for each account."
   ]
  },
  {
   "cell_type": "code",
   "execution_count": 13,
   "metadata": {},
   "outputs": [],
   "source": [
    "# Since we will use linear regression, we separate our data into dependent(y) and independent(x) variables\n",
    "x = df.iloc[:, :-1].values # Mifid\n",
    "y = df.iloc[:, -1].values # ReturnPct"
   ]
  },
  {
   "cell_type": "code",
   "execution_count": 14,
   "metadata": {},
   "outputs": [
    {
     "data": {
      "text/plain": [
       "(625, 1)"
      ]
     },
     "execution_count": 14,
     "metadata": {},
     "output_type": "execute_result"
    }
   ],
   "source": [
    "x.shape"
   ]
  },
  {
   "cell_type": "code",
   "execution_count": 15,
   "metadata": {},
   "outputs": [
    {
     "data": {
      "text/plain": [
       "(625,)"
      ]
     },
     "execution_count": 15,
     "metadata": {},
     "output_type": "execute_result"
    }
   ],
   "source": [
    "y.shape"
   ]
  },
  {
   "cell_type": "markdown",
   "metadata": {},
   "source": [
    "### Splitting our data into x_train, x_test, y_train, y_test"
   ]
  },
  {
   "cell_type": "code",
   "execution_count": 16,
   "metadata": {},
   "outputs": [],
   "source": [
    "# In order to achieve this, we will use train_test_split function from sklearn.\n",
    "from sklearn.model_selection import train_test_split\n",
    "\n",
    "# This function returns 4 different np array\n",
    "# %20 for test, %80 for train\n",
    "x_train, x_test, y_train, y_test = train_test_split(x,y,test_size=0.2,random_state=1)"
   ]
  },
  {
   "cell_type": "code",
   "execution_count": 17,
   "metadata": {},
   "outputs": [
    {
     "name": "stdout",
     "output_type": "stream",
     "text": [
      "(500, 1)\n",
      "(500,)\n",
      "(125, 1)\n",
      "(125,)\n"
     ]
    }
   ],
   "source": [
    "print(x_train.shape)\n",
    "print(y_train.shape)\n",
    "print(x_test.shape)\n",
    "print(y_test.shape)"
   ]
  },
  {
   "cell_type": "code",
   "execution_count": 18,
   "metadata": {},
   "outputs": [],
   "source": [
    "# Create our model, we will import linear regression model from sklearn\n",
    "from sklearn.linear_model import LinearRegression\n",
    "model = LinearRegression(fit_intercept=True, normalize=True,copy_X=True,n_jobs=-1)"
   ]
  },
  {
   "cell_type": "markdown",
   "metadata": {},
   "source": [
    "### Train the model"
   ]
  },
  {
   "cell_type": "code",
   "execution_count": 19,
   "metadata": {},
   "outputs": [
    {
     "data": {
      "text/plain": [
       "LinearRegression(copy_X=True, fit_intercept=True, n_jobs=-1, normalize=True)"
      ]
     },
     "execution_count": 19,
     "metadata": {},
     "output_type": "execute_result"
    }
   ],
   "source": [
    "# We're using default values to fit model\n",
    "model.fit(x_train,y_train)\n"
   ]
  },
  {
   "cell_type": "code",
   "execution_count": 20,
   "metadata": {},
   "outputs": [
    {
     "data": {
      "text/plain": [
       "-4648.0155684937"
      ]
     },
     "execution_count": 20,
     "metadata": {},
     "output_type": "execute_result"
    }
   ],
   "source": [
    "model.score(x_test,y_test)"
   ]
  },
  {
   "cell_type": "markdown",
   "metadata": {},
   "source": [
    "Our model is performing really bad because correlation between features are also bad...\n",
    "\n",
    "We will use another approach such as multiple regression.\n",
    "\n",
    "**Why our model is doing so bad at score?**\n",
    "\n",
    "Like we mentioned before, bad correlated features cause low success models. "
   ]
  },
  {
   "cell_type": "markdown",
   "metadata": {},
   "source": [
    "### Predicting the test results"
   ]
  },
  {
   "cell_type": "code",
   "execution_count": 21,
   "metadata": {},
   "outputs": [],
   "source": [
    "y_pred = model.predict(x_test)"
   ]
  },
  {
   "cell_type": "code",
   "execution_count": 22,
   "metadata": {},
   "outputs": [
    {
     "data": {
      "text/html": [
       "<div>\n",
       "<style scoped>\n",
       "    .dataframe tbody tr th:only-of-type {\n",
       "        vertical-align: middle;\n",
       "    }\n",
       "\n",
       "    .dataframe tbody tr th {\n",
       "        vertical-align: top;\n",
       "    }\n",
       "\n",
       "    .dataframe thead th {\n",
       "        text-align: right;\n",
       "    }\n",
       "</style>\n",
       "<table border=\"1\" class=\"dataframe\">\n",
       "  <thead>\n",
       "    <tr style=\"text-align: right;\">\n",
       "      <th></th>\n",
       "      <th>Actual</th>\n",
       "      <th>Predicted</th>\n",
       "    </tr>\n",
       "  </thead>\n",
       "  <tbody>\n",
       "    <tr>\n",
       "      <th>0</th>\n",
       "      <td>3.223034</td>\n",
       "      <td>1548.641687</td>\n",
       "    </tr>\n",
       "    <tr>\n",
       "      <th>1</th>\n",
       "      <td>14.638303</td>\n",
       "      <td>1844.227938</td>\n",
       "    </tr>\n",
       "    <tr>\n",
       "      <th>2</th>\n",
       "      <td>12.758796</td>\n",
       "      <td>1879.720471</td>\n",
       "    </tr>\n",
       "    <tr>\n",
       "      <th>3</th>\n",
       "      <td>2.051181</td>\n",
       "      <td>1851.991930</td>\n",
       "    </tr>\n",
       "    <tr>\n",
       "      <th>4</th>\n",
       "      <td>8.644310</td>\n",
       "      <td>1602.435057</td>\n",
       "    </tr>\n",
       "    <tr>\n",
       "      <th>...</th>\n",
       "      <td>...</td>\n",
       "      <td>...</td>\n",
       "    </tr>\n",
       "    <tr>\n",
       "      <th>120</th>\n",
       "      <td>5.059354</td>\n",
       "      <td>1768.806306</td>\n",
       "    </tr>\n",
       "    <tr>\n",
       "      <th>121</th>\n",
       "      <td>5.192780</td>\n",
       "      <td>2010.599187</td>\n",
       "    </tr>\n",
       "    <tr>\n",
       "      <th>122</th>\n",
       "      <td>-68.587728</td>\n",
       "      <td>1713.349223</td>\n",
       "    </tr>\n",
       "    <tr>\n",
       "      <th>123</th>\n",
       "      <td>7.296547</td>\n",
       "      <td>1899.685021</td>\n",
       "    </tr>\n",
       "    <tr>\n",
       "      <th>124</th>\n",
       "      <td>9.428680</td>\n",
       "      <td>1871.956480</td>\n",
       "    </tr>\n",
       "  </tbody>\n",
       "</table>\n",
       "<p>125 rows × 2 columns</p>\n",
       "</div>"
      ],
      "text/plain": [
       "        Actual    Predicted\n",
       "0     3.223034  1548.641687\n",
       "1    14.638303  1844.227938\n",
       "2    12.758796  1879.720471\n",
       "3     2.051181  1851.991930\n",
       "4     8.644310  1602.435057\n",
       "..         ...          ...\n",
       "120   5.059354  1768.806306\n",
       "121   5.192780  2010.599187\n",
       "122 -68.587728  1713.349223\n",
       "123   7.296547  1899.685021\n",
       "124   9.428680  1871.956480\n",
       "\n",
       "[125 rows x 2 columns]"
      ]
     },
     "execution_count": 22,
     "metadata": {},
     "output_type": "execute_result"
    }
   ],
   "source": [
    "# To see actual and predicted values we're creating a new dataframe\n",
    "performance = pd.DataFrame({\"Actual\": y_test, \"Predicted\": y_pred})\n",
    "performance"
   ]
  },
  {
   "cell_type": "markdown",
   "metadata": {},
   "source": [
    "## Visualising the Training set results"
   ]
  },
  {
   "cell_type": "code",
   "execution_count": 23,
   "metadata": {},
   "outputs": [
    {
     "data": {
      "image/png": "[encoded data removed]",
      "text/plain": [
       "<Figure size 432x288 with 1 Axes>"
      ]
     },
     "metadata": {
      "needs_background": "light"
     },
     "output_type": "display_data"
    }
   ],
   "source": [
    "plt.scatter(x_train, y_train, color = 'red')\n",
    "plt.plot(x_train, model.predict(x_train), color = 'blue')\n",
    "plt.show()"
   ]
  },
  {
   "cell_type": "markdown",
   "metadata": {},
   "source": [
    "### Two metrics MSE and RMSE are mostly used to measure error rate in linear regressions"
   ]
  },
  {
   "cell_type": "code",
   "execution_count": 24,
   "metadata": {},
   "outputs": [
    {
     "name": "stdout",
     "output_type": "stream",
     "text": [
      "Mean Squared Error (MSE): 3150223.3539863476\n",
      "Root Mean Squared Error (RMSE): 1774.8868566718127\n"
     ]
    }
   ],
   "source": [
    "from sklearn import metrics   \n",
    "print('Mean Squared Error (MSE):', metrics.mean_squared_error(y_test, y_pred))  \n",
    "print('Root Mean Squared Error (RMSE):', np.sqrt(metrics.mean_squared_error(y_test, y_pred)))  "
   ]
  },
  {
   "cell_type": "markdown",
   "metadata": {},
   "source": [
    "Our error rates are so high... \n",
    "We need to use another regression technich."
   ]
  },
  {
   "cell_type": "markdown",
   "metadata": {},
   "source": [
    "## Part 3: Multiple Linear Regression\n",
    "\n",
    "Unlike simple linear regression, Multiple linear regression is used to estimate the relationship between two or more independent variables and one dependent variable.\n",
    "\n",
    "* In this section we will prepare our data and we will look correlation between our features. Our goal is to find good corralated features with \"Return Percentage\" because at the end as a dependent variable we need  try to predict \"Return Percentage\""
   ]
  },
  {
   "cell_type": "markdown",
   "metadata": {},
   "source": [
    "### Prepare the data\n"
   ]
  },
  {
   "cell_type": "code",
   "execution_count": 25,
   "metadata": {},
   "outputs": [
    {
     "data": {
      "text/html": [
       "<div>\n",
       "<style scoped>\n",
       "    .dataframe tbody tr th:only-of-type {\n",
       "        vertical-align: middle;\n",
       "    }\n",
       "\n",
       "    .dataframe tbody tr th {\n",
       "        vertical-align: top;\n",
       "    }\n",
       "\n",
       "    .dataframe thead th {\n",
       "        text-align: right;\n",
       "    }\n",
       "</style>\n",
       "<table border=\"1\" class=\"dataframe\">\n",
       "  <thead>\n",
       "    <tr style=\"text-align: right;\">\n",
       "      <th></th>\n",
       "      <th>QuestionnaireDate</th>\n",
       "      <th>AnnualIncome</th>\n",
       "      <th>AnnualSavings</th>\n",
       "      <th>Wealth</th>\n",
       "      <th>Horizon</th>\n",
       "      <th>Objective</th>\n",
       "      <th>InvestmentRisk</th>\n",
       "      <th>PotentialLoss</th>\n",
       "      <th>Mifid</th>\n",
       "      <th>CurrentBalance</th>\n",
       "      <th>Currency</th>\n",
       "      <th>DateFunded</th>\n",
       "      <th>ReturnPct</th>\n",
       "      <th>YearOfBirth</th>\n",
       "    </tr>\n",
       "    <tr>\n",
       "      <th>AccountId</th>\n",
       "      <th></th>\n",
       "      <th></th>\n",
       "      <th></th>\n",
       "      <th></th>\n",
       "      <th></th>\n",
       "      <th></th>\n",
       "      <th></th>\n",
       "      <th></th>\n",
       "      <th></th>\n",
       "      <th></th>\n",
       "      <th></th>\n",
       "      <th></th>\n",
       "      <th></th>\n",
       "      <th></th>\n",
       "    </tr>\n",
       "  </thead>\n",
       "  <tbody>\n",
       "    <tr>\n",
       "      <th>1</th>\n",
       "      <td>2016-09-25</td>\n",
       "      <td>40000.0</td>\n",
       "      <td>30000.0</td>\n",
       "      <td>35000.0</td>\n",
       "      <td>10.0</td>\n",
       "      <td>3.0</td>\n",
       "      <td>2.0</td>\n",
       "      <td>10.0</td>\n",
       "      <td>7.23125</td>\n",
       "      <td>6851.244231</td>\n",
       "      <td>1.0</td>\n",
       "      <td>2016-01-07</td>\n",
       "      <td>27.476871</td>\n",
       "      <td>1982.0</td>\n",
       "    </tr>\n",
       "    <tr>\n",
       "      <th>3</th>\n",
       "      <td>2016-09-25</td>\n",
       "      <td>100000.0</td>\n",
       "      <td>0.0</td>\n",
       "      <td>2400000.0</td>\n",
       "      <td>5.0</td>\n",
       "      <td>0.0</td>\n",
       "      <td>3.0</td>\n",
       "      <td>10.0</td>\n",
       "      <td>5.51250</td>\n",
       "      <td>873447.239897</td>\n",
       "      <td>1.0</td>\n",
       "      <td>2015-12-15</td>\n",
       "      <td>27.333140</td>\n",
       "      <td>1960.0</td>\n",
       "    </tr>\n",
       "    <tr>\n",
       "      <th>4</th>\n",
       "      <td>2019-03-25</td>\n",
       "      <td>100000.0</td>\n",
       "      <td>70000.0</td>\n",
       "      <td>600000.0</td>\n",
       "      <td>15.0</td>\n",
       "      <td>3.0</td>\n",
       "      <td>4.0</td>\n",
       "      <td>20.0</td>\n",
       "      <td>9.21875</td>\n",
       "      <td>22102.397117</td>\n",
       "      <td>1.0</td>\n",
       "      <td>2016-02-19</td>\n",
       "      <td>19.178523</td>\n",
       "      <td>1984.0</td>\n",
       "    </tr>\n",
       "    <tr>\n",
       "      <th>5</th>\n",
       "      <td>2018-11-14</td>\n",
       "      <td>40000.0</td>\n",
       "      <td>10000.0</td>\n",
       "      <td>150000.0</td>\n",
       "      <td>10.0</td>\n",
       "      <td>3.0</td>\n",
       "      <td>3.0</td>\n",
       "      <td>20.0</td>\n",
       "      <td>7.50000</td>\n",
       "      <td>16824.579561</td>\n",
       "      <td>1.0</td>\n",
       "      <td>2016-02-22</td>\n",
       "      <td>27.170163</td>\n",
       "      <td>1975.0</td>\n",
       "    </tr>\n",
       "    <tr>\n",
       "      <th>7</th>\n",
       "      <td>2017-09-27</td>\n",
       "      <td>45000.0</td>\n",
       "      <td>30000.0</td>\n",
       "      <td>87500.0</td>\n",
       "      <td>15.0</td>\n",
       "      <td>3.0</td>\n",
       "      <td>3.0</td>\n",
       "      <td>5.0</td>\n",
       "      <td>7.44375</td>\n",
       "      <td>22355.787118</td>\n",
       "      <td>1.0</td>\n",
       "      <td>2016-01-22</td>\n",
       "      <td>26.574040</td>\n",
       "      <td>1976.0</td>\n",
       "    </tr>\n",
       "    <tr>\n",
       "      <th>...</th>\n",
       "      <td>...</td>\n",
       "      <td>...</td>\n",
       "      <td>...</td>\n",
       "      <td>...</td>\n",
       "      <td>...</td>\n",
       "      <td>...</td>\n",
       "      <td>...</td>\n",
       "      <td>...</td>\n",
       "      <td>...</td>\n",
       "      <td>...</td>\n",
       "      <td>...</td>\n",
       "      <td>...</td>\n",
       "      <td>...</td>\n",
       "      <td>...</td>\n",
       "    </tr>\n",
       "    <tr>\n",
       "      <th>7136</th>\n",
       "      <td>2019-10-29</td>\n",
       "      <td>50000.0</td>\n",
       "      <td>15000.0</td>\n",
       "      <td>30000.0</td>\n",
       "      <td>15.0</td>\n",
       "      <td>1.0</td>\n",
       "      <td>3.0</td>\n",
       "      <td>30.0</td>\n",
       "      <td>3.00000</td>\n",
       "      <td>10000.000000</td>\n",
       "      <td>1.0</td>\n",
       "      <td>2019-10-30</td>\n",
       "      <td>0.000000</td>\n",
       "      <td>1974.0</td>\n",
       "    </tr>\n",
       "    <tr>\n",
       "      <th>7138</th>\n",
       "      <td>2019-10-30</td>\n",
       "      <td>40000.0</td>\n",
       "      <td>5000.0</td>\n",
       "      <td>11000.0</td>\n",
       "      <td>10.0</td>\n",
       "      <td>3.0</td>\n",
       "      <td>4.0</td>\n",
       "      <td>15.0</td>\n",
       "      <td>7.12500</td>\n",
       "      <td>5000.000000</td>\n",
       "      <td>1.0</td>\n",
       "      <td>2019-10-31</td>\n",
       "      <td>0.000000</td>\n",
       "      <td>1973.0</td>\n",
       "    </tr>\n",
       "    <tr>\n",
       "      <th>7139</th>\n",
       "      <td>2019-10-30</td>\n",
       "      <td>80000.0</td>\n",
       "      <td>60000.0</td>\n",
       "      <td>425000.0</td>\n",
       "      <td>25.0</td>\n",
       "      <td>3.0</td>\n",
       "      <td>5.0</td>\n",
       "      <td>30.0</td>\n",
       "      <td>10.00000</td>\n",
       "      <td>5000.000000</td>\n",
       "      <td>1.0</td>\n",
       "      <td>2019-10-31</td>\n",
       "      <td>0.000000</td>\n",
       "      <td>1982.0</td>\n",
       "    </tr>\n",
       "    <tr>\n",
       "      <th>NaN</th>\n",
       "      <td>NaT</td>\n",
       "      <td>NaN</td>\n",
       "      <td>NaN</td>\n",
       "      <td>NaN</td>\n",
       "      <td>NaN</td>\n",
       "      <td>NaN</td>\n",
       "      <td>NaN</td>\n",
       "      <td>NaN</td>\n",
       "      <td>NaN</td>\n",
       "      <td>NaN</td>\n",
       "      <td>NaN</td>\n",
       "      <td>NaT</td>\n",
       "      <td>NaN</td>\n",
       "      <td>NaN</td>\n",
       "    </tr>\n",
       "    <tr>\n",
       "      <th>(634 rows affected)</th>\n",
       "      <td>NaT</td>\n",
       "      <td>NaN</td>\n",
       "      <td>NaN</td>\n",
       "      <td>NaN</td>\n",
       "      <td>NaN</td>\n",
       "      <td>NaN</td>\n",
       "      <td>NaN</td>\n",
       "      <td>NaN</td>\n",
       "      <td>NaN</td>\n",
       "      <td>NaN</td>\n",
       "      <td>NaN</td>\n",
       "      <td>NaT</td>\n",
       "      <td>NaN</td>\n",
       "      <td>NaN</td>\n",
       "    </tr>\n",
       "  </tbody>\n",
       "</table>\n",
       "<p>636 rows × 14 columns</p>\n",
       "</div>"
      ],
      "text/plain": [
       "                    QuestionnaireDate  AnnualIncome  AnnualSavings     Wealth  \\\n",
       "AccountId                                                                       \n",
       "1                          2016-09-25       40000.0        30000.0    35000.0   \n",
       "3                          2016-09-25      100000.0            0.0  2400000.0   \n",
       "4                          2019-03-25      100000.0        70000.0   600000.0   \n",
       "5                          2018-11-14       40000.0        10000.0   150000.0   \n",
       "7                          2017-09-27       45000.0        30000.0    87500.0   \n",
       "...                               ...           ...            ...        ...   \n",
       "7136                       2019-10-29       50000.0        15000.0    30000.0   \n",
       "7138                       2019-10-30       40000.0         5000.0    11000.0   \n",
       "7139                       2019-10-30       80000.0        60000.0   425000.0   \n",
       "NaN                               NaT           NaN            NaN        NaN   \n",
       "(634 rows affected)               NaT           NaN            NaN        NaN   \n",
       "\n",
       "                     Horizon  Objective  InvestmentRisk  PotentialLoss  \\\n",
       "AccountId                                                                \n",
       "1                       10.0        3.0             2.0           10.0   \n",
       "3                        5.0        0.0             3.0           10.0   \n",
       "4                       15.0        3.0             4.0           20.0   \n",
       "5                       10.0        3.0             3.0           20.0   \n",
       "7                       15.0        3.0             3.0            5.0   \n",
       "...                      ...        ...             ...            ...   \n",
       "7136                    15.0        1.0             3.0           30.0   \n",
       "7138                    10.0        3.0             4.0           15.0   \n",
       "7139                    25.0        3.0             5.0           30.0   \n",
       "NaN                      NaN        NaN             NaN            NaN   \n",
       "(634 rows affected)      NaN        NaN             NaN            NaN   \n",
       "\n",
       "                        Mifid  CurrentBalance  Currency DateFunded  ReturnPct  \\\n",
       "AccountId                                                                       \n",
       "1                     7.23125     6851.244231       1.0 2016-01-07  27.476871   \n",
       "3                     5.51250   873447.239897       1.0 2015-12-15  27.333140   \n",
       "4                     9.21875    22102.397117       1.0 2016-02-19  19.178523   \n",
       "5                     7.50000    16824.579561       1.0 2016-02-22  27.170163   \n",
       "7                     7.44375    22355.787118       1.0 2016-01-22  26.574040   \n",
       "...                       ...             ...       ...        ...        ...   \n",
       "7136                  3.00000    10000.000000       1.0 2019-10-30   0.000000   \n",
       "7138                  7.12500     5000.000000       1.0 2019-10-31   0.000000   \n",
       "7139                 10.00000     5000.000000       1.0 2019-10-31   0.000000   \n",
       "NaN                       NaN             NaN       NaN        NaT        NaN   \n",
       "(634 rows affected)       NaN             NaN       NaN        NaT        NaN   \n",
       "\n",
       "                     YearOfBirth  \n",
       "AccountId                         \n",
       "1                         1982.0  \n",
       "3                         1960.0  \n",
       "4                         1984.0  \n",
       "5                         1975.0  \n",
       "7                         1976.0  \n",
       "...                          ...  \n",
       "7136                      1974.0  \n",
       "7138                      1973.0  \n",
       "7139                      1982.0  \n",
       "NaN                          NaN  \n",
       "(634 rows affected)          NaN  \n",
       "\n",
       "[636 rows x 14 columns]"
      ]
     },
     "execution_count": 25,
     "metadata": {},
     "output_type": "execute_result"
    }
   ],
   "source": [
    "df = pd.read_excel(\"./Project/data/AccountsInvestorSurvey.xlsx\", index_col=\"AccountId\")\n",
    "df"
   ]
  },
  {
   "cell_type": "code",
   "execution_count": 26,
   "metadata": {},
   "outputs": [],
   "source": [
    "# Delete last two row, null values\n",
    "df.drop(df.tail(2).index, inplace=True)"
   ]
  },
  {
   "cell_type": "markdown",
   "metadata": {},
   "source": [
    "### Improving the correlation performance\n",
    "\n",
    "* In our data, there are lot of investor account that has current balance less than 500, It means we can ignore return percentage of those investors because they were closed. \n",
    "* Also, we have bunch of investors who got into system with initial fund but they never gained such return percantage from system, so we will drop that investors data from our dataframe\n",
    "* We will look at outliers, outliers can help detect the data that doesn't fit our data too much, but if they amount is too much we can't just drop them break the integrity of data\n",
    "- These improvements will help to increase our correlation between return pct and features"
   ]
  },
  {
   "cell_type": "code",
   "execution_count": 27,
   "metadata": {},
   "outputs": [
    {
     "data": {
      "text/html": [
       "<div>\n",
       "<style scoped>\n",
       "    .dataframe tbody tr th:only-of-type {\n",
       "        vertical-align: middle;\n",
       "    }\n",
       "\n",
       "    .dataframe tbody tr th {\n",
       "        vertical-align: top;\n",
       "    }\n",
       "\n",
       "    .dataframe thead th {\n",
       "        text-align: right;\n",
       "    }\n",
       "</style>\n",
       "<table border=\"1\" class=\"dataframe\">\n",
       "  <thead>\n",
       "    <tr style=\"text-align: right;\">\n",
       "      <th></th>\n",
       "      <th>QuestionnaireDate</th>\n",
       "      <th>AnnualIncome</th>\n",
       "      <th>AnnualSavings</th>\n",
       "      <th>Wealth</th>\n",
       "      <th>Horizon</th>\n",
       "      <th>Objective</th>\n",
       "      <th>InvestmentRisk</th>\n",
       "      <th>PotentialLoss</th>\n",
       "      <th>Mifid</th>\n",
       "      <th>CurrentBalance</th>\n",
       "      <th>Currency</th>\n",
       "      <th>DateFunded</th>\n",
       "      <th>ReturnPct</th>\n",
       "      <th>YearOfBirth</th>\n",
       "    </tr>\n",
       "    <tr>\n",
       "      <th>AccountId</th>\n",
       "      <th></th>\n",
       "      <th></th>\n",
       "      <th></th>\n",
       "      <th></th>\n",
       "      <th></th>\n",
       "      <th></th>\n",
       "      <th></th>\n",
       "      <th></th>\n",
       "      <th></th>\n",
       "      <th></th>\n",
       "      <th></th>\n",
       "      <th></th>\n",
       "      <th></th>\n",
       "      <th></th>\n",
       "    </tr>\n",
       "  </thead>\n",
       "  <tbody>\n",
       "    <tr>\n",
       "      <th>12</th>\n",
       "      <td>2016-10-10</td>\n",
       "      <td>100000.0</td>\n",
       "      <td>30000.0</td>\n",
       "      <td>150000.0</td>\n",
       "      <td>15.0</td>\n",
       "      <td>3.0</td>\n",
       "      <td>2.0</td>\n",
       "      <td>10.0</td>\n",
       "      <td>7.07500</td>\n",
       "      <td>-6.237840e-04</td>\n",
       "      <td>2.0</td>\n",
       "      <td>2016-07-13</td>\n",
       "      <td>-100.000346</td>\n",
       "      <td>1969.0</td>\n",
       "    </tr>\n",
       "    <tr>\n",
       "      <th>32</th>\n",
       "      <td>2017-01-02</td>\n",
       "      <td>50000.0</td>\n",
       "      <td>15000.0</td>\n",
       "      <td>150000.0</td>\n",
       "      <td>10.0</td>\n",
       "      <td>1.0</td>\n",
       "      <td>3.0</td>\n",
       "      <td>20.0</td>\n",
       "      <td>3.00000</td>\n",
       "      <td>4.273354e+00</td>\n",
       "      <td>1.0</td>\n",
       "      <td>2017-03-20</td>\n",
       "      <td>-66.983463</td>\n",
       "      <td>1980.0</td>\n",
       "    </tr>\n",
       "    <tr>\n",
       "      <th>33</th>\n",
       "      <td>2017-01-07</td>\n",
       "      <td>50000.0</td>\n",
       "      <td>10000.0</td>\n",
       "      <td>150000.0</td>\n",
       "      <td>15.0</td>\n",
       "      <td>3.0</td>\n",
       "      <td>4.0</td>\n",
       "      <td>20.0</td>\n",
       "      <td>8.43750</td>\n",
       "      <td>-2.046100e-03</td>\n",
       "      <td>1.0</td>\n",
       "      <td>2017-04-19</td>\n",
       "      <td>-11.147673</td>\n",
       "      <td>1976.0</td>\n",
       "    </tr>\n",
       "    <tr>\n",
       "      <th>36</th>\n",
       "      <td>2017-01-19</td>\n",
       "      <td>30000.0</td>\n",
       "      <td>10000.0</td>\n",
       "      <td>87500.0</td>\n",
       "      <td>15.0</td>\n",
       "      <td>3.0</td>\n",
       "      <td>2.0</td>\n",
       "      <td>10.0</td>\n",
       "      <td>7.23125</td>\n",
       "      <td>-1.780623e-03</td>\n",
       "      <td>1.0</td>\n",
       "      <td>2017-05-09</td>\n",
       "      <td>6.402331</td>\n",
       "      <td>1965.0</td>\n",
       "    </tr>\n",
       "    <tr>\n",
       "      <th>49</th>\n",
       "      <td>2017-02-27</td>\n",
       "      <td>15000.0</td>\n",
       "      <td>7800.0</td>\n",
       "      <td>35000.0</td>\n",
       "      <td>15.0</td>\n",
       "      <td>3.0</td>\n",
       "      <td>3.0</td>\n",
       "      <td>20.0</td>\n",
       "      <td>8.28125</td>\n",
       "      <td>-1.470000e-07</td>\n",
       "      <td>1.0</td>\n",
       "      <td>2017-04-04</td>\n",
       "      <td>-100.000052</td>\n",
       "      <td>1979.0</td>\n",
       "    </tr>\n",
       "    <tr>\n",
       "      <th>...</th>\n",
       "      <td>...</td>\n",
       "      <td>...</td>\n",
       "      <td>...</td>\n",
       "      <td>...</td>\n",
       "      <td>...</td>\n",
       "      <td>...</td>\n",
       "      <td>...</td>\n",
       "      <td>...</td>\n",
       "      <td>...</td>\n",
       "      <td>...</td>\n",
       "      <td>...</td>\n",
       "      <td>...</td>\n",
       "      <td>...</td>\n",
       "      <td>...</td>\n",
       "    </tr>\n",
       "    <tr>\n",
       "      <th>3924</th>\n",
       "      <td>2019-06-22</td>\n",
       "      <td>60000.0</td>\n",
       "      <td>22000.0</td>\n",
       "      <td>40000.0</td>\n",
       "      <td>5.0</td>\n",
       "      <td>1.0</td>\n",
       "      <td>3.0</td>\n",
       "      <td>5.0</td>\n",
       "      <td>3.00000</td>\n",
       "      <td>1.171288e+00</td>\n",
       "      <td>1.0</td>\n",
       "      <td>2019-06-27</td>\n",
       "      <td>-40.972878</td>\n",
       "      <td>1978.0</td>\n",
       "    </tr>\n",
       "    <tr>\n",
       "      <th>3934</th>\n",
       "      <td>2019-06-28</td>\n",
       "      <td>35000.0</td>\n",
       "      <td>15000.0</td>\n",
       "      <td>35000.0</td>\n",
       "      <td>20.0</td>\n",
       "      <td>3.0</td>\n",
       "      <td>4.0</td>\n",
       "      <td>20.0</td>\n",
       "      <td>8.90625</td>\n",
       "      <td>3.340578e-03</td>\n",
       "      <td>1.0</td>\n",
       "      <td>2019-07-01</td>\n",
       "      <td>1.371284</td>\n",
       "      <td>1985.0</td>\n",
       "    </tr>\n",
       "    <tr>\n",
       "      <th>5964</th>\n",
       "      <td>2019-07-21</td>\n",
       "      <td>65000.0</td>\n",
       "      <td>35000.0</td>\n",
       "      <td>250000.0</td>\n",
       "      <td>10.0</td>\n",
       "      <td>3.0</td>\n",
       "      <td>5.0</td>\n",
       "      <td>25.0</td>\n",
       "      <td>8.75000</td>\n",
       "      <td>3.000000e+00</td>\n",
       "      <td>1.0</td>\n",
       "      <td>2019-07-22</td>\n",
       "      <td>-2.498300</td>\n",
       "      <td>1978.0</td>\n",
       "    </tr>\n",
       "    <tr>\n",
       "      <th>6031</th>\n",
       "      <td>2019-09-09</td>\n",
       "      <td>30000.0</td>\n",
       "      <td>9000.0</td>\n",
       "      <td>50000.0</td>\n",
       "      <td>12.0</td>\n",
       "      <td>1.0</td>\n",
       "      <td>4.0</td>\n",
       "      <td>5.0</td>\n",
       "      <td>3.00000</td>\n",
       "      <td>0.000000e+00</td>\n",
       "      <td>1.0</td>\n",
       "      <td>2019-09-10</td>\n",
       "      <td>0.000000</td>\n",
       "      <td>1967.0</td>\n",
       "    </tr>\n",
       "    <tr>\n",
       "      <th>6046</th>\n",
       "      <td>2019-09-17</td>\n",
       "      <td>32000.0</td>\n",
       "      <td>8000.0</td>\n",
       "      <td>10000.0</td>\n",
       "      <td>15.0</td>\n",
       "      <td>3.0</td>\n",
       "      <td>4.0</td>\n",
       "      <td>15.0</td>\n",
       "      <td>8.43750</td>\n",
       "      <td>5.520000e+00</td>\n",
       "      <td>1.0</td>\n",
       "      <td>2019-09-17</td>\n",
       "      <td>0.603923</td>\n",
       "      <td>1987.0</td>\n",
       "    </tr>\n",
       "  </tbody>\n",
       "</table>\n",
       "<p>131 rows × 14 columns</p>\n",
       "</div>"
      ],
      "text/plain": [
       "          QuestionnaireDate  AnnualIncome  AnnualSavings    Wealth  Horizon  \\\n",
       "AccountId                                                                     \n",
       "12               2016-10-10      100000.0        30000.0  150000.0     15.0   \n",
       "32               2017-01-02       50000.0        15000.0  150000.0     10.0   \n",
       "33               2017-01-07       50000.0        10000.0  150000.0     15.0   \n",
       "36               2017-01-19       30000.0        10000.0   87500.0     15.0   \n",
       "49               2017-02-27       15000.0         7800.0   35000.0     15.0   \n",
       "...                     ...           ...            ...       ...      ...   \n",
       "3924             2019-06-22       60000.0        22000.0   40000.0      5.0   \n",
       "3934             2019-06-28       35000.0        15000.0   35000.0     20.0   \n",
       "5964             2019-07-21       65000.0        35000.0  250000.0     10.0   \n",
       "6031             2019-09-09       30000.0         9000.0   50000.0     12.0   \n",
       "6046             2019-09-17       32000.0         8000.0   10000.0     15.0   \n",
       "\n",
       "           Objective  InvestmentRisk  PotentialLoss    Mifid  CurrentBalance  \\\n",
       "AccountId                                                                      \n",
       "12               3.0             2.0           10.0  7.07500   -6.237840e-04   \n",
       "32               1.0             3.0           20.0  3.00000    4.273354e+00   \n",
       "33               3.0             4.0           20.0  8.43750   -2.046100e-03   \n",
       "36               3.0             2.0           10.0  7.23125   -1.780623e-03   \n",
       "49               3.0             3.0           20.0  8.28125   -1.470000e-07   \n",
       "...              ...             ...            ...      ...             ...   \n",
       "3924             1.0             3.0            5.0  3.00000    1.171288e+00   \n",
       "3934             3.0             4.0           20.0  8.90625    3.340578e-03   \n",
       "5964             3.0             5.0           25.0  8.75000    3.000000e+00   \n",
       "6031             1.0             4.0            5.0  3.00000    0.000000e+00   \n",
       "6046             3.0             4.0           15.0  8.43750    5.520000e+00   \n",
       "\n",
       "           Currency DateFunded   ReturnPct  YearOfBirth  \n",
       "AccountId                                                \n",
       "12              2.0 2016-07-13 -100.000346       1969.0  \n",
       "32              1.0 2017-03-20  -66.983463       1980.0  \n",
       "33              1.0 2017-04-19  -11.147673       1976.0  \n",
       "36              1.0 2017-05-09    6.402331       1965.0  \n",
       "49              1.0 2017-04-04 -100.000052       1979.0  \n",
       "...             ...        ...         ...          ...  \n",
       "3924            1.0 2019-06-27  -40.972878       1978.0  \n",
       "3934            1.0 2019-07-01    1.371284       1985.0  \n",
       "5964            1.0 2019-07-22   -2.498300       1978.0  \n",
       "6031            1.0 2019-09-10    0.000000       1967.0  \n",
       "6046            1.0 2019-09-17    0.603923       1987.0  \n",
       "\n",
       "[131 rows x 14 columns]"
      ]
     },
     "execution_count": 27,
     "metadata": {},
     "output_type": "execute_result"
    }
   ],
   "source": [
    "# If account is closed (i.e. has < 500 EUR current balance) ignore the return.\n",
    "\n",
    "# Closed accounts\n",
    "df[df[\"CurrentBalance\"]<500]"
   ]
  },
  {
   "cell_type": "code",
   "execution_count": 28,
   "metadata": {},
   "outputs": [],
   "source": [
    "# Let's ignore their return percentage\n",
    "df.drop(df[df[\"CurrentBalance\"]<500].index, inplace=True)"
   ]
  },
  {
   "cell_type": "code",
   "execution_count": 29,
   "metadata": {},
   "outputs": [
    {
     "data": {
      "text/html": [
       "<div>\n",
       "<style scoped>\n",
       "    .dataframe tbody tr th:only-of-type {\n",
       "        vertical-align: middle;\n",
       "    }\n",
       "\n",
       "    .dataframe tbody tr th {\n",
       "        vertical-align: top;\n",
       "    }\n",
       "\n",
       "    .dataframe thead th {\n",
       "        text-align: right;\n",
       "    }\n",
       "</style>\n",
       "<table border=\"1\" class=\"dataframe\">\n",
       "  <thead>\n",
       "    <tr style=\"text-align: right;\">\n",
       "      <th></th>\n",
       "      <th>QuestionnaireDate</th>\n",
       "      <th>AnnualIncome</th>\n",
       "      <th>AnnualSavings</th>\n",
       "      <th>Wealth</th>\n",
       "      <th>Horizon</th>\n",
       "      <th>Objective</th>\n",
       "      <th>InvestmentRisk</th>\n",
       "      <th>PotentialLoss</th>\n",
       "      <th>Mifid</th>\n",
       "      <th>CurrentBalance</th>\n",
       "      <th>Currency</th>\n",
       "      <th>DateFunded</th>\n",
       "      <th>ReturnPct</th>\n",
       "      <th>YearOfBirth</th>\n",
       "    </tr>\n",
       "    <tr>\n",
       "      <th>AccountId</th>\n",
       "      <th></th>\n",
       "      <th></th>\n",
       "      <th></th>\n",
       "      <th></th>\n",
       "      <th></th>\n",
       "      <th></th>\n",
       "      <th></th>\n",
       "      <th></th>\n",
       "      <th></th>\n",
       "      <th></th>\n",
       "      <th></th>\n",
       "      <th></th>\n",
       "      <th></th>\n",
       "      <th></th>\n",
       "    </tr>\n",
       "  </thead>\n",
       "  <tbody>\n",
       "    <tr>\n",
       "      <th>6045</th>\n",
       "      <td>2019-09-17</td>\n",
       "      <td>40000.0</td>\n",
       "      <td>10000.0</td>\n",
       "      <td>70000.0</td>\n",
       "      <td>20.0</td>\n",
       "      <td>3.0</td>\n",
       "      <td>5.0</td>\n",
       "      <td>25.0</td>\n",
       "      <td>9.06250</td>\n",
       "      <td>1222.90344</td>\n",
       "      <td>1.0</td>\n",
       "      <td>2019-11-01</td>\n",
       "      <td>0.0</td>\n",
       "      <td>1980.0</td>\n",
       "    </tr>\n",
       "    <tr>\n",
       "      <th>7122</th>\n",
       "      <td>2019-10-25</td>\n",
       "      <td>28000.0</td>\n",
       "      <td>14000.0</td>\n",
       "      <td>50000.0</td>\n",
       "      <td>10.0</td>\n",
       "      <td>3.0</td>\n",
       "      <td>3.0</td>\n",
       "      <td>15.0</td>\n",
       "      <td>7.28125</td>\n",
       "      <td>5000.00000</td>\n",
       "      <td>1.0</td>\n",
       "      <td>2019-10-25</td>\n",
       "      <td>0.0</td>\n",
       "      <td>1968.0</td>\n",
       "    </tr>\n",
       "    <tr>\n",
       "      <th>7131</th>\n",
       "      <td>2019-10-29</td>\n",
       "      <td>33000.0</td>\n",
       "      <td>12000.0</td>\n",
       "      <td>30000.0</td>\n",
       "      <td>12.0</td>\n",
       "      <td>3.0</td>\n",
       "      <td>5.0</td>\n",
       "      <td>30.0</td>\n",
       "      <td>9.53125</td>\n",
       "      <td>1000.00000</td>\n",
       "      <td>1.0</td>\n",
       "      <td>2019-10-30</td>\n",
       "      <td>0.0</td>\n",
       "      <td>1992.0</td>\n",
       "    </tr>\n",
       "    <tr>\n",
       "      <th>7136</th>\n",
       "      <td>2019-10-29</td>\n",
       "      <td>50000.0</td>\n",
       "      <td>15000.0</td>\n",
       "      <td>30000.0</td>\n",
       "      <td>15.0</td>\n",
       "      <td>1.0</td>\n",
       "      <td>3.0</td>\n",
       "      <td>30.0</td>\n",
       "      <td>3.00000</td>\n",
       "      <td>10000.00000</td>\n",
       "      <td>1.0</td>\n",
       "      <td>2019-10-30</td>\n",
       "      <td>0.0</td>\n",
       "      <td>1974.0</td>\n",
       "    </tr>\n",
       "    <tr>\n",
       "      <th>7138</th>\n",
       "      <td>2019-10-30</td>\n",
       "      <td>40000.0</td>\n",
       "      <td>5000.0</td>\n",
       "      <td>11000.0</td>\n",
       "      <td>10.0</td>\n",
       "      <td>3.0</td>\n",
       "      <td>4.0</td>\n",
       "      <td>15.0</td>\n",
       "      <td>7.12500</td>\n",
       "      <td>5000.00000</td>\n",
       "      <td>1.0</td>\n",
       "      <td>2019-10-31</td>\n",
       "      <td>0.0</td>\n",
       "      <td>1973.0</td>\n",
       "    </tr>\n",
       "    <tr>\n",
       "      <th>7139</th>\n",
       "      <td>2019-10-30</td>\n",
       "      <td>80000.0</td>\n",
       "      <td>60000.0</td>\n",
       "      <td>425000.0</td>\n",
       "      <td>25.0</td>\n",
       "      <td>3.0</td>\n",
       "      <td>5.0</td>\n",
       "      <td>30.0</td>\n",
       "      <td>10.00000</td>\n",
       "      <td>5000.00000</td>\n",
       "      <td>1.0</td>\n",
       "      <td>2019-10-31</td>\n",
       "      <td>0.0</td>\n",
       "      <td>1982.0</td>\n",
       "    </tr>\n",
       "  </tbody>\n",
       "</table>\n",
       "</div>"
      ],
      "text/plain": [
       "          QuestionnaireDate  AnnualIncome  AnnualSavings    Wealth  Horizon  \\\n",
       "AccountId                                                                     \n",
       "6045             2019-09-17       40000.0        10000.0   70000.0     20.0   \n",
       "7122             2019-10-25       28000.0        14000.0   50000.0     10.0   \n",
       "7131             2019-10-29       33000.0        12000.0   30000.0     12.0   \n",
       "7136             2019-10-29       50000.0        15000.0   30000.0     15.0   \n",
       "7138             2019-10-30       40000.0         5000.0   11000.0     10.0   \n",
       "7139             2019-10-30       80000.0        60000.0  425000.0     25.0   \n",
       "\n",
       "           Objective  InvestmentRisk  PotentialLoss     Mifid  CurrentBalance  \\\n",
       "AccountId                                                                       \n",
       "6045             3.0             5.0           25.0   9.06250      1222.90344   \n",
       "7122             3.0             3.0           15.0   7.28125      5000.00000   \n",
       "7131             3.0             5.0           30.0   9.53125      1000.00000   \n",
       "7136             1.0             3.0           30.0   3.00000     10000.00000   \n",
       "7138             3.0             4.0           15.0   7.12500      5000.00000   \n",
       "7139             3.0             5.0           30.0  10.00000      5000.00000   \n",
       "\n",
       "           Currency DateFunded  ReturnPct  YearOfBirth  \n",
       "AccountId                                               \n",
       "6045            1.0 2019-11-01        0.0       1980.0  \n",
       "7122            1.0 2019-10-25        0.0       1968.0  \n",
       "7131            1.0 2019-10-30        0.0       1992.0  \n",
       "7136            1.0 2019-10-30        0.0       1974.0  \n",
       "7138            1.0 2019-10-31        0.0       1973.0  \n",
       "7139            1.0 2019-10-31        0.0       1982.0  "
      ]
     },
     "execution_count": 29,
     "metadata": {},
     "output_type": "execute_result"
    }
   ],
   "source": [
    "# Accounts that got into system but never gained any return percentage\n",
    "df[df[\"ReturnPct\"]==0]"
   ]
  },
  {
   "cell_type": "code",
   "execution_count": 30,
   "metadata": {},
   "outputs": [],
   "source": [
    "# Ignore them too just as we did in previous model\n",
    "df.drop(df[df[\"ReturnPct\"]==0].index,inplace=True)"
   ]
  },
  {
   "cell_type": "code",
   "execution_count": 31,
   "metadata": {
    "scrolled": false
   },
   "outputs": [
    {
     "data": {
      "text/html": [
       "<div>\n",
       "<style scoped>\n",
       "    .dataframe tbody tr th:only-of-type {\n",
       "        vertical-align: middle;\n",
       "    }\n",
       "\n",
       "    .dataframe tbody tr th {\n",
       "        vertical-align: top;\n",
       "    }\n",
       "\n",
       "    .dataframe thead th {\n",
       "        text-align: right;\n",
       "    }\n",
       "</style>\n",
       "<table border=\"1\" class=\"dataframe\">\n",
       "  <thead>\n",
       "    <tr style=\"text-align: right;\">\n",
       "      <th></th>\n",
       "      <th>QuestionnaireDate</th>\n",
       "      <th>AnnualIncome</th>\n",
       "      <th>AnnualSavings</th>\n",
       "      <th>Wealth</th>\n",
       "      <th>Horizon</th>\n",
       "      <th>Objective</th>\n",
       "      <th>InvestmentRisk</th>\n",
       "      <th>PotentialLoss</th>\n",
       "      <th>Mifid</th>\n",
       "      <th>CurrentBalance</th>\n",
       "      <th>Currency</th>\n",
       "      <th>DateFunded</th>\n",
       "      <th>ReturnPct</th>\n",
       "      <th>YearOfBirth</th>\n",
       "    </tr>\n",
       "    <tr>\n",
       "      <th>AccountId</th>\n",
       "      <th></th>\n",
       "      <th></th>\n",
       "      <th></th>\n",
       "      <th></th>\n",
       "      <th></th>\n",
       "      <th></th>\n",
       "      <th></th>\n",
       "      <th></th>\n",
       "      <th></th>\n",
       "      <th></th>\n",
       "      <th></th>\n",
       "      <th></th>\n",
       "      <th></th>\n",
       "      <th></th>\n",
       "    </tr>\n",
       "  </thead>\n",
       "  <tbody>\n",
       "    <tr>\n",
       "      <th>1</th>\n",
       "      <td>2016-09-25</td>\n",
       "      <td>40000.0</td>\n",
       "      <td>30000.0</td>\n",
       "      <td>35000.0</td>\n",
       "      <td>10.0</td>\n",
       "      <td>3.0</td>\n",
       "      <td>2.0</td>\n",
       "      <td>10.0</td>\n",
       "      <td>7.23125</td>\n",
       "      <td>6851.244231</td>\n",
       "      <td>1.0</td>\n",
       "      <td>2016-01-07</td>\n",
       "      <td>27.476871</td>\n",
       "      <td>1982.0</td>\n",
       "    </tr>\n",
       "    <tr>\n",
       "      <th>3</th>\n",
       "      <td>2016-09-25</td>\n",
       "      <td>100000.0</td>\n",
       "      <td>0.0</td>\n",
       "      <td>2400000.0</td>\n",
       "      <td>5.0</td>\n",
       "      <td>0.0</td>\n",
       "      <td>3.0</td>\n",
       "      <td>10.0</td>\n",
       "      <td>5.51250</td>\n",
       "      <td>873447.239897</td>\n",
       "      <td>1.0</td>\n",
       "      <td>2015-12-15</td>\n",
       "      <td>27.333140</td>\n",
       "      <td>1960.0</td>\n",
       "    </tr>\n",
       "    <tr>\n",
       "      <th>4</th>\n",
       "      <td>2019-03-25</td>\n",
       "      <td>100000.0</td>\n",
       "      <td>70000.0</td>\n",
       "      <td>600000.0</td>\n",
       "      <td>15.0</td>\n",
       "      <td>3.0</td>\n",
       "      <td>4.0</td>\n",
       "      <td>20.0</td>\n",
       "      <td>9.21875</td>\n",
       "      <td>22102.397117</td>\n",
       "      <td>1.0</td>\n",
       "      <td>2016-02-19</td>\n",
       "      <td>19.178523</td>\n",
       "      <td>1984.0</td>\n",
       "    </tr>\n",
       "    <tr>\n",
       "      <th>5</th>\n",
       "      <td>2018-11-14</td>\n",
       "      <td>40000.0</td>\n",
       "      <td>10000.0</td>\n",
       "      <td>150000.0</td>\n",
       "      <td>10.0</td>\n",
       "      <td>3.0</td>\n",
       "      <td>3.0</td>\n",
       "      <td>20.0</td>\n",
       "      <td>7.50000</td>\n",
       "      <td>16824.579561</td>\n",
       "      <td>1.0</td>\n",
       "      <td>2016-02-22</td>\n",
       "      <td>27.170163</td>\n",
       "      <td>1975.0</td>\n",
       "    </tr>\n",
       "    <tr>\n",
       "      <th>7</th>\n",
       "      <td>2017-09-27</td>\n",
       "      <td>45000.0</td>\n",
       "      <td>30000.0</td>\n",
       "      <td>87500.0</td>\n",
       "      <td>15.0</td>\n",
       "      <td>3.0</td>\n",
       "      <td>3.0</td>\n",
       "      <td>5.0</td>\n",
       "      <td>7.44375</td>\n",
       "      <td>22355.787118</td>\n",
       "      <td>1.0</td>\n",
       "      <td>2016-01-22</td>\n",
       "      <td>26.574040</td>\n",
       "      <td>1976.0</td>\n",
       "    </tr>\n",
       "    <tr>\n",
       "      <th>...</th>\n",
       "      <td>...</td>\n",
       "      <td>...</td>\n",
       "      <td>...</td>\n",
       "      <td>...</td>\n",
       "      <td>...</td>\n",
       "      <td>...</td>\n",
       "      <td>...</td>\n",
       "      <td>...</td>\n",
       "      <td>...</td>\n",
       "      <td>...</td>\n",
       "      <td>...</td>\n",
       "      <td>...</td>\n",
       "      <td>...</td>\n",
       "      <td>...</td>\n",
       "    </tr>\n",
       "    <tr>\n",
       "      <th>7118</th>\n",
       "      <td>2019-10-23</td>\n",
       "      <td>80000.0</td>\n",
       "      <td>24000.0</td>\n",
       "      <td>50000.0</td>\n",
       "      <td>3.0</td>\n",
       "      <td>1.0</td>\n",
       "      <td>1.0</td>\n",
       "      <td>7.0</td>\n",
       "      <td>3.00000</td>\n",
       "      <td>9991.192321</td>\n",
       "      <td>1.0</td>\n",
       "      <td>2019-10-23</td>\n",
       "      <td>-0.088077</td>\n",
       "      <td>1984.0</td>\n",
       "    </tr>\n",
       "    <tr>\n",
       "      <th>7119</th>\n",
       "      <td>2019-10-24</td>\n",
       "      <td>49000.0</td>\n",
       "      <td>17000.0</td>\n",
       "      <td>60000.0</td>\n",
       "      <td>10.0</td>\n",
       "      <td>3.0</td>\n",
       "      <td>5.0</td>\n",
       "      <td>25.0</td>\n",
       "      <td>8.46250</td>\n",
       "      <td>9996.859217</td>\n",
       "      <td>1.0</td>\n",
       "      <td>2019-10-25</td>\n",
       "      <td>-0.031408</td>\n",
       "      <td>1964.0</td>\n",
       "    </tr>\n",
       "    <tr>\n",
       "      <th>7120</th>\n",
       "      <td>2019-10-24</td>\n",
       "      <td>18000.0</td>\n",
       "      <td>10000.0</td>\n",
       "      <td>90000.0</td>\n",
       "      <td>14.0</td>\n",
       "      <td>3.0</td>\n",
       "      <td>3.0</td>\n",
       "      <td>16.0</td>\n",
       "      <td>7.71875</td>\n",
       "      <td>4999.910000</td>\n",
       "      <td>1.0</td>\n",
       "      <td>2019-10-31</td>\n",
       "      <td>-0.001800</td>\n",
       "      <td>1973.0</td>\n",
       "    </tr>\n",
       "    <tr>\n",
       "      <th>7126</th>\n",
       "      <td>2019-10-02</td>\n",
       "      <td>18000.0</td>\n",
       "      <td>3000.0</td>\n",
       "      <td>12000.0</td>\n",
       "      <td>8.0</td>\n",
       "      <td>3.0</td>\n",
       "      <td>4.0</td>\n",
       "      <td>25.0</td>\n",
       "      <td>8.43750</td>\n",
       "      <td>3500.738275</td>\n",
       "      <td>1.0</td>\n",
       "      <td>2019-10-28</td>\n",
       "      <td>0.021094</td>\n",
       "      <td>1992.0</td>\n",
       "    </tr>\n",
       "    <tr>\n",
       "      <th>7127</th>\n",
       "      <td>2019-10-27</td>\n",
       "      <td>35000.0</td>\n",
       "      <td>3000.0</td>\n",
       "      <td>600000.0</td>\n",
       "      <td>23.0</td>\n",
       "      <td>2.0</td>\n",
       "      <td>3.0</td>\n",
       "      <td>10.0</td>\n",
       "      <td>5.98125</td>\n",
       "      <td>5994.593818</td>\n",
       "      <td>1.0</td>\n",
       "      <td>2019-10-29</td>\n",
       "      <td>-0.090103</td>\n",
       "      <td>1957.0</td>\n",
       "    </tr>\n",
       "  </tbody>\n",
       "</table>\n",
       "<p>497 rows × 14 columns</p>\n",
       "</div>"
      ],
      "text/plain": [
       "          QuestionnaireDate  AnnualIncome  AnnualSavings     Wealth  Horizon  \\\n",
       "AccountId                                                                      \n",
       "1                2016-09-25       40000.0        30000.0    35000.0     10.0   \n",
       "3                2016-09-25      100000.0            0.0  2400000.0      5.0   \n",
       "4                2019-03-25      100000.0        70000.0   600000.0     15.0   \n",
       "5                2018-11-14       40000.0        10000.0   150000.0     10.0   \n",
       "7                2017-09-27       45000.0        30000.0    87500.0     15.0   \n",
       "...                     ...           ...            ...        ...      ...   \n",
       "7118             2019-10-23       80000.0        24000.0    50000.0      3.0   \n",
       "7119             2019-10-24       49000.0        17000.0    60000.0     10.0   \n",
       "7120             2019-10-24       18000.0        10000.0    90000.0     14.0   \n",
       "7126             2019-10-02       18000.0         3000.0    12000.0      8.0   \n",
       "7127             2019-10-27       35000.0         3000.0   600000.0     23.0   \n",
       "\n",
       "           Objective  InvestmentRisk  PotentialLoss    Mifid  CurrentBalance  \\\n",
       "AccountId                                                                      \n",
       "1                3.0             2.0           10.0  7.23125     6851.244231   \n",
       "3                0.0             3.0           10.0  5.51250   873447.239897   \n",
       "4                3.0             4.0           20.0  9.21875    22102.397117   \n",
       "5                3.0             3.0           20.0  7.50000    16824.579561   \n",
       "7                3.0             3.0            5.0  7.44375    22355.787118   \n",
       "...              ...             ...            ...      ...             ...   \n",
       "7118             1.0             1.0            7.0  3.00000     9991.192321   \n",
       "7119             3.0             5.0           25.0  8.46250     9996.859217   \n",
       "7120             3.0             3.0           16.0  7.71875     4999.910000   \n",
       "7126             3.0             4.0           25.0  8.43750     3500.738275   \n",
       "7127             2.0             3.0           10.0  5.98125     5994.593818   \n",
       "\n",
       "           Currency DateFunded  ReturnPct  YearOfBirth  \n",
       "AccountId                                               \n",
       "1               1.0 2016-01-07  27.476871       1982.0  \n",
       "3               1.0 2015-12-15  27.333140       1960.0  \n",
       "4               1.0 2016-02-19  19.178523       1984.0  \n",
       "5               1.0 2016-02-22  27.170163       1975.0  \n",
       "7               1.0 2016-01-22  26.574040       1976.0  \n",
       "...             ...        ...        ...          ...  \n",
       "7118            1.0 2019-10-23  -0.088077       1984.0  \n",
       "7119            1.0 2019-10-25  -0.031408       1964.0  \n",
       "7120            1.0 2019-10-31  -0.001800       1973.0  \n",
       "7126            1.0 2019-10-28   0.021094       1992.0  \n",
       "7127            1.0 2019-10-29  -0.090103       1957.0  \n",
       "\n",
       "[497 rows x 14 columns]"
      ]
     },
     "execution_count": 31,
     "metadata": {},
     "output_type": "execute_result"
    }
   ],
   "source": [
    "# Final dataFrame\n",
    "df"
   ]
  },
  {
   "cell_type": "markdown",
   "metadata": {},
   "source": [
    "### Analysing Outliers\n",
    "\n",
    "In this section we will try to find outlier data and to make our correlation better we might drop them from dataframe.\n",
    "But if outlier data amount is too much, we won't do that because it will affect our regression model too much"
   ]
  },
  {
   "cell_type": "code",
   "execution_count": 32,
   "metadata": {},
   "outputs": [
    {
     "data": {
      "image/png": "[encoded data removed]",
      "text/plain": [
       "<Figure size 432x288 with 1 Axes>"
      ]
     },
     "metadata": {
      "needs_background": "light"
     },
     "output_type": "display_data"
    }
   ],
   "source": [
    "# Boxplot for every feature\n",
    "\n",
    "sns.boxplot(x=df['Horizon']);"
   ]
  },
  {
   "cell_type": "code",
   "execution_count": 33,
   "metadata": {},
   "outputs": [],
   "source": [
    "dfh = df['Horizon']\n",
    "dfh_Q1 = dfh.quantile(0.25)\n",
    "dfh_Q3 = dfh.quantile(0.75)\n",
    "dfh_IQR = dfh_Q3 - dfh_Q1\n",
    "dfh_lowerend = dfh_Q1 - (1.5 * dfh_IQR)\n",
    "dfh_upperend = dfh_Q3 + (1.5 * dfh_IQR)"
   ]
  },
  {
   "cell_type": "code",
   "execution_count": 34,
   "metadata": {},
   "outputs": [
    {
     "data": {
      "text/plain": [
       "(97,)"
      ]
     },
     "execution_count": 34,
     "metadata": {},
     "output_type": "execute_result"
    }
   ],
   "source": [
    "dfh_outliers = dfh[(dfh < dfh) | (dfh > dfh_upperend)]\n",
    "dfh_outliers.shape"
   ]
  },
  {
   "cell_type": "markdown",
   "metadata": {},
   "source": [
    "97 outlier sample is too much for us, we can't drop all of them it will cause faults on data."
   ]
  },
  {
   "cell_type": "code",
   "execution_count": 35,
   "metadata": {},
   "outputs": [
    {
     "data": {
      "image/png": "[encoded data removed]",
      "text/plain": [
       "<Figure size 432x288 with 1 Axes>"
      ]
     },
     "metadata": {
      "needs_background": "light"
     },
     "output_type": "display_data"
    }
   ],
   "source": [
    "sns.boxplot(x=df['Mifid']);"
   ]
  },
  {
   "cell_type": "code",
   "execution_count": 36,
   "metadata": {},
   "outputs": [
    {
     "data": {
      "text/plain": [
       "(52,)"
      ]
     },
     "execution_count": 36,
     "metadata": {},
     "output_type": "execute_result"
    }
   ],
   "source": [
    "dfmif = df['Mifid']\n",
    "dfmif_Q1 = dfmif.quantile(0.25)\n",
    "dfmif_Q3 = dfmif.quantile(0.75)\n",
    "dfmif_IQR = dfmif_Q3 - dfmif_Q1\n",
    "dfmif_lowerend = dfmif_Q1 - (1.5 * dfmif_IQR)\n",
    "dfmif_upperend = dfmif_Q3 + (1.5 * dfmif_IQR)\n",
    "\n",
    "dfmif_outliers = dfmif[(dfmif < dfmif_lowerend) | (dfmif > dfmif_upperend)]\n",
    "dfmif_outliers.shape"
   ]
  },
  {
   "cell_type": "markdown",
   "metadata": {},
   "source": [
    "52 sample is again too much to drop\n",
    "\n",
    "In this example we won't go further more, because it's obvious that outlier data is too much and we don't want to break integrity of data so that we can't drop them from data"
   ]
  },
  {
   "cell_type": "markdown",
   "metadata": {},
   "source": [
    "### Correlation heat map"
   ]
  },
  {
   "cell_type": "code",
   "execution_count": 37,
   "metadata": {},
   "outputs": [
    {
     "data": {
      "text/plain": [
       "<matplotlib.axes._subplots.AxesSubplot at 0x7f8799834450>"
      ]
     },
     "execution_count": 37,
     "metadata": {},
     "output_type": "execute_result"
    },
    {
     "data": {
      "image/png": "[encoded data removed]",
      "text/plain": [
       "<Figure size 1152x864 with 2 Axes>"
      ]
     },
     "metadata": {
      "needs_background": "light"
     },
     "output_type": "display_data"
    }
   ],
   "source": [
    "plt.figure(figsize=(16,12))\n",
    "corr = df.corr()\n",
    "sns.heatmap(corr, \n",
    "            xticklabels=corr.columns.values,\n",
    "            yticklabels=corr.columns.values)"
   ]
  },
  {
   "cell_type": "markdown",
   "metadata": {},
   "source": [
    "### Analysis\n",
    "\n",
    "* When we turn back and look up the previous correlation between ReturnPct and Mifid Score in the previous linear regression model, we clearly see that the modification we've done on data has helped to improve our correlation scores\n",
    "- Previous correlation between mifid and return pct was around 0.10 ~\n",
    "- Thanks to modifications current correlation between mifid and return pct is around 0.30 ~\n",
    "\n",
    "Which features should we select to create a multiple regression?\n",
    "\n",
    "Return percentage has better correlation with Horizon, Mifid, and CurrentBalance. And also these features have good correlation with each other."
   ]
  },
  {
   "cell_type": "markdown",
   "metadata": {},
   "source": [
    "### Prepare the data"
   ]
  },
  {
   "cell_type": "code",
   "execution_count": 39,
   "metadata": {},
   "outputs": [],
   "source": [
    "df = df[[\"Horizon\",\"Mifid\",\"CurrentBalance\",\"ReturnPct\"]]"
   ]
  },
  {
   "cell_type": "code",
   "execution_count": 41,
   "metadata": {
    "scrolled": false
   },
   "outputs": [
    {
     "data": {
      "text/plain": [
       "<matplotlib.axes._subplots.AxesSubplot at 0x7f879a2deed0>"
      ]
     },
     "execution_count": 41,
     "metadata": {},
     "output_type": "execute_result"
    },
    {
     "data": {
      "image/png": "[encoded data removed]",
      "text/plain": [
       "<Figure size 432x288 with 2 Axes>"
      ]
     },
     "metadata": {
      "needs_background": "light"
     },
     "output_type": "display_data"
    }
   ],
   "source": [
    "# To see correlation between selected features\n",
    "\n",
    "corr = df.corr()\n",
    "sns.heatmap(corr, \n",
    "            xticklabels=corr.columns.values,\n",
    "            yticklabels=corr.columns.values)"
   ]
  },
  {
   "cell_type": "markdown",
   "metadata": {},
   "source": [
    "Current model has better correlation values between features than the previous simple linear regression model"
   ]
  },
  {
   "cell_type": "code",
   "execution_count": 44,
   "metadata": {},
   "outputs": [
    {
     "data": {
      "text/html": [
       "<div>\n",
       "<style scoped>\n",
       "    .dataframe tbody tr th:only-of-type {\n",
       "        vertical-align: middle;\n",
       "    }\n",
       "\n",
       "    .dataframe tbody tr th {\n",
       "        vertical-align: top;\n",
       "    }\n",
       "\n",
       "    .dataframe thead th {\n",
       "        text-align: right;\n",
       "    }\n",
       "</style>\n",
       "<table border=\"1\" class=\"dataframe\">\n",
       "  <thead>\n",
       "    <tr style=\"text-align: right;\">\n",
       "      <th></th>\n",
       "      <th>Horizon</th>\n",
       "      <th>Mifid</th>\n",
       "      <th>CurrentBalance</th>\n",
       "      <th>ReturnPct</th>\n",
       "    </tr>\n",
       "    <tr>\n",
       "      <th>AccountId</th>\n",
       "      <th></th>\n",
       "      <th></th>\n",
       "      <th></th>\n",
       "      <th></th>\n",
       "    </tr>\n",
       "  </thead>\n",
       "  <tbody>\n",
       "    <tr>\n",
       "      <th>1</th>\n",
       "      <td>10.0</td>\n",
       "      <td>7.23125</td>\n",
       "      <td>6851.244231</td>\n",
       "      <td>27.476871</td>\n",
       "    </tr>\n",
       "    <tr>\n",
       "      <th>3</th>\n",
       "      <td>5.0</td>\n",
       "      <td>5.51250</td>\n",
       "      <td>873447.239897</td>\n",
       "      <td>27.333140</td>\n",
       "    </tr>\n",
       "    <tr>\n",
       "      <th>4</th>\n",
       "      <td>15.0</td>\n",
       "      <td>9.21875</td>\n",
       "      <td>22102.397117</td>\n",
       "      <td>19.178523</td>\n",
       "    </tr>\n",
       "    <tr>\n",
       "      <th>5</th>\n",
       "      <td>10.0</td>\n",
       "      <td>7.50000</td>\n",
       "      <td>16824.579561</td>\n",
       "      <td>27.170163</td>\n",
       "    </tr>\n",
       "    <tr>\n",
       "      <th>7</th>\n",
       "      <td>15.0</td>\n",
       "      <td>7.44375</td>\n",
       "      <td>22355.787118</td>\n",
       "      <td>26.574040</td>\n",
       "    </tr>\n",
       "    <tr>\n",
       "      <th>...</th>\n",
       "      <td>...</td>\n",
       "      <td>...</td>\n",
       "      <td>...</td>\n",
       "      <td>...</td>\n",
       "    </tr>\n",
       "    <tr>\n",
       "      <th>7118</th>\n",
       "      <td>3.0</td>\n",
       "      <td>3.00000</td>\n",
       "      <td>9991.192321</td>\n",
       "      <td>-0.088077</td>\n",
       "    </tr>\n",
       "    <tr>\n",
       "      <th>7119</th>\n",
       "      <td>10.0</td>\n",
       "      <td>8.46250</td>\n",
       "      <td>9996.859217</td>\n",
       "      <td>-0.031408</td>\n",
       "    </tr>\n",
       "    <tr>\n",
       "      <th>7120</th>\n",
       "      <td>14.0</td>\n",
       "      <td>7.71875</td>\n",
       "      <td>4999.910000</td>\n",
       "      <td>-0.001800</td>\n",
       "    </tr>\n",
       "    <tr>\n",
       "      <th>7126</th>\n",
       "      <td>8.0</td>\n",
       "      <td>8.43750</td>\n",
       "      <td>3500.738275</td>\n",
       "      <td>0.021094</td>\n",
       "    </tr>\n",
       "    <tr>\n",
       "      <th>7127</th>\n",
       "      <td>23.0</td>\n",
       "      <td>5.98125</td>\n",
       "      <td>5994.593818</td>\n",
       "      <td>-0.090103</td>\n",
       "    </tr>\n",
       "  </tbody>\n",
       "</table>\n",
       "<p>497 rows × 4 columns</p>\n",
       "</div>"
      ],
      "text/plain": [
       "           Horizon    Mifid  CurrentBalance  ReturnPct\n",
       "AccountId                                             \n",
       "1             10.0  7.23125     6851.244231  27.476871\n",
       "3              5.0  5.51250   873447.239897  27.333140\n",
       "4             15.0  9.21875    22102.397117  19.178523\n",
       "5             10.0  7.50000    16824.579561  27.170163\n",
       "7             15.0  7.44375    22355.787118  26.574040\n",
       "...            ...      ...             ...        ...\n",
       "7118           3.0  3.00000     9991.192321  -0.088077\n",
       "7119          10.0  8.46250     9996.859217  -0.031408\n",
       "7120          14.0  7.71875     4999.910000  -0.001800\n",
       "7126           8.0  8.43750     3500.738275   0.021094\n",
       "7127          23.0  5.98125     5994.593818  -0.090103\n",
       "\n",
       "[497 rows x 4 columns]"
      ]
     },
     "execution_count": 44,
     "metadata": {},
     "output_type": "execute_result"
    }
   ],
   "source": [
    "# Final dataframe for multiple regression\n",
    "df"
   ]
  },
  {
   "cell_type": "code",
   "execution_count": 45,
   "metadata": {},
   "outputs": [
    {
     "data": {
      "text/html": [
       "<div>\n",
       "<style scoped>\n",
       "    .dataframe tbody tr th:only-of-type {\n",
       "        vertical-align: middle;\n",
       "    }\n",
       "\n",
       "    .dataframe tbody tr th {\n",
       "        vertical-align: top;\n",
       "    }\n",
       "\n",
       "    .dataframe thead th {\n",
       "        text-align: right;\n",
       "    }\n",
       "</style>\n",
       "<table border=\"1\" class=\"dataframe\">\n",
       "  <thead>\n",
       "    <tr style=\"text-align: right;\">\n",
       "      <th></th>\n",
       "      <th>Horizon</th>\n",
       "      <th>Mifid</th>\n",
       "      <th>CurrentBalance</th>\n",
       "      <th>ReturnPct</th>\n",
       "    </tr>\n",
       "  </thead>\n",
       "  <tbody>\n",
       "    <tr>\n",
       "      <th>count</th>\n",
       "      <td>497.000000</td>\n",
       "      <td>497.000000</td>\n",
       "      <td>497.000000</td>\n",
       "      <td>497.000000</td>\n",
       "    </tr>\n",
       "    <tr>\n",
       "      <th>mean</th>\n",
       "      <td>13.676056</td>\n",
       "      <td>7.010029</td>\n",
       "      <td>26391.051800</td>\n",
       "      <td>7.763128</td>\n",
       "    </tr>\n",
       "    <tr>\n",
       "      <th>std</th>\n",
       "      <td>6.789289</td>\n",
       "      <td>1.716242</td>\n",
       "      <td>59342.240433</td>\n",
       "      <td>7.457386</td>\n",
       "    </tr>\n",
       "    <tr>\n",
       "      <th>min</th>\n",
       "      <td>2.000000</td>\n",
       "      <td>2.021875</td>\n",
       "      <td>3040.211394</td>\n",
       "      <td>-9.565821</td>\n",
       "    </tr>\n",
       "    <tr>\n",
       "      <th>25%</th>\n",
       "      <td>10.000000</td>\n",
       "      <td>6.343750</td>\n",
       "      <td>6943.380562</td>\n",
       "      <td>4.057153</td>\n",
       "    </tr>\n",
       "    <tr>\n",
       "      <th>50%</th>\n",
       "      <td>15.000000</td>\n",
       "      <td>7.387500</td>\n",
       "      <td>11847.338175</td>\n",
       "      <td>7.237166</td>\n",
       "    </tr>\n",
       "    <tr>\n",
       "      <th>75%</th>\n",
       "      <td>15.000000</td>\n",
       "      <td>8.281250</td>\n",
       "      <td>21816.793048</td>\n",
       "      <td>9.882405</td>\n",
       "    </tr>\n",
       "    <tr>\n",
       "      <th>max</th>\n",
       "      <td>25.000000</td>\n",
       "      <td>10.000000</td>\n",
       "      <td>873447.239897</td>\n",
       "      <td>123.294595</td>\n",
       "    </tr>\n",
       "  </tbody>\n",
       "</table>\n",
       "</div>"
      ],
      "text/plain": [
       "          Horizon       Mifid  CurrentBalance   ReturnPct\n",
       "count  497.000000  497.000000      497.000000  497.000000\n",
       "mean    13.676056    7.010029    26391.051800    7.763128\n",
       "std      6.789289    1.716242    59342.240433    7.457386\n",
       "min      2.000000    2.021875     3040.211394   -9.565821\n",
       "25%     10.000000    6.343750     6943.380562    4.057153\n",
       "50%     15.000000    7.387500    11847.338175    7.237166\n",
       "75%     15.000000    8.281250    21816.793048    9.882405\n",
       "max     25.000000   10.000000   873447.239897  123.294595"
      ]
     },
     "execution_count": 45,
     "metadata": {},
     "output_type": "execute_result"
    }
   ],
   "source": [
    "# Basic statistic of data\n",
    "df.describe()"
   ]
  },
  {
   "cell_type": "markdown",
   "metadata": {},
   "source": [
    "### Data Visualization"
   ]
  },
  {
   "cell_type": "markdown",
   "metadata": {},
   "source": [
    "**Since we work on regression problem, let's see regression plot between  features**"
   ]
  },
  {
   "cell_type": "code",
   "execution_count": 46,
   "metadata": {
    "scrolled": true
   },
   "outputs": [
    {
     "data": {
      "image/png": "[encoded data removed]",
      "text/plain": [
       "<Figure size 1440x360 with 4 Axes>"
      ]
     },
     "metadata": {
      "needs_background": "light"
     },
     "output_type": "display_data"
    }
   ],
   "source": [
    "## regression line between mifid score and return pct\n",
    "plt.figure(figsize=(20,5))\n",
    "plt.subplot(1,4,1,)\n",
    "plt.title('Mifid and ReturnPct')\n",
    "plt.xlabel('Mifid')\n",
    "plt.ylabel('ReturnPct')\n",
    "sns.regplot(data=df, x=\"Mifid\",y=\"ReturnPct\");\n",
    "\n",
    "## regression line between Horizon score and return pct\n",
    "plt.subplot(1,4,2,)\n",
    "plt.title('Horizon and ReturnPct')\n",
    "plt.xlabel('Horizon')\n",
    "plt.ylabel('ReturnPct')\n",
    "sns.regplot(data=df, x=\"Mifid\",y=\"ReturnPct\");\n",
    "\n",
    "## regression line between Current Balance score and return pct\n",
    "plt.subplot(1,4,3,)\n",
    "plt.title('CurrentBalance and ReturnPct')\n",
    "plt.xlabel('CurrentBalance')\n",
    "plt.ylabel('ReturnPct')\n",
    "sns.regplot(data=df, x=\"CurrentBalance\",y=\"ReturnPct\");\n",
    "\n",
    "## regression line between mifid score and current balance\n",
    "plt.subplot(1,4,4,)\n",
    "plt.title('Mifid and CurrentBalance')\n",
    "plt.xlabel('Mifid')\n",
    "plt.ylabel('Horizon')\n",
    "sns.regplot(data=df, x=\"Mifid\",y=\"CurrentBalance\");\n"
   ]
  },
  {
   "cell_type": "markdown",
   "metadata": {},
   "source": [
    "* Mifid-ReturnPct and Horizon-ReturnPct has better regression line"
   ]
  },
  {
   "cell_type": "code",
   "execution_count": 47,
   "metadata": {
    "scrolled": true
   },
   "outputs": [
    {
     "data": {
      "image/png": "[encoded data removed]",
      "text/plain": [
       "<Figure size 1080x360 with 4 Axes>"
      ]
     },
     "metadata": {
      "needs_background": "light"
     },
     "output_type": "display_data"
    }
   ],
   "source": [
    "# Histogram of features\n",
    "\n",
    "plt.figure(figsize=(15,5))\n",
    "plt.subplot(1,4,1,)\n",
    "plt.title('Horizon')\n",
    "plt.xlabel('Horizon')\n",
    "plt.ylabel('Count')\n",
    "plt.hist(df.Horizon,bins=30)\n",
    "\n",
    "plt.subplot(1,4,2)\n",
    "plt.title('Mifid')\n",
    "plt.xlabel('Mifid')\n",
    "plt.ylabel('Count')\n",
    "plt.hist(df['Mifid'],bins=30)\n",
    "\n",
    "plt.subplot(1,4,3)\n",
    "plt.title('Current Balance')\n",
    "plt.xlabel('Current Balance')\n",
    "plt.ylabel('Count')\n",
    "plt.hist(df['CurrentBalance'],bins=30)\n",
    "\n",
    "plt.subplot(1,4,4)\n",
    "plt.title('ReturnPct')\n",
    "plt.xlabel('ReturnPct')\n",
    "plt.ylabel('Count')\n",
    "plt.hist(df['ReturnPct'],bins=30)\n",
    "\n",
    "plt.tight_layout()\n"
   ]
  },
  {
   "cell_type": "markdown",
   "metadata": {},
   "source": [
    "#### Analysis\n",
    "\n",
    "* Most of investors have mifid score between 6-8.5~ it means that investors are tend to take more risk(0 less risk, 10 more risk)\n",
    "* Vast majority of investors have 10000~ € Current Balance\n",
    "* When we look at Return Percentages(the profit they've gained) most of it has scaled between 0 and 25 "
   ]
  },
  {
   "cell_type": "code",
   "execution_count": 48,
   "metadata": {},
   "outputs": [
    {
     "data": {
      "image/png": "[encoded data removed]",
      "text/plain": [
       "<Figure size 1080x360 with 4 Axes>"
      ]
     },
     "metadata": {
      "needs_background": "light"
     },
     "output_type": "display_data"
    }
   ],
   "source": [
    "# Density of features\n",
    "\n",
    "plt.figure(figsize=(15,5))\n",
    "plt.subplot(1,4,1,)\n",
    "plt.title('Horizon')\n",
    "plt.xlabel('Horizon')\n",
    "plt.ylabel('Count')\n",
    "sns.kdeplot(data=df.Horizon, shade=True)\n",
    "\n",
    "plt.subplot(1,4,2)\n",
    "plt.title('Mifid')\n",
    "plt.xlabel('Mifid')\n",
    "plt.ylabel('Count')\n",
    "sns.kdeplot(data=df.Mifid, shade=True)\n",
    "\n",
    "plt.subplot(1,4,3)\n",
    "plt.title('Current Balance')\n",
    "plt.xlabel('Current Balance')\n",
    "plt.ylabel('Count')\n",
    "sns.kdeplot(data=df.CurrentBalance, shade=True)\n",
    "\n",
    "plt.subplot(1,4,4)\n",
    "plt.title('ReturnPct')\n",
    "plt.xlabel('ReturnPct')\n",
    "plt.ylabel('Count')\n",
    "sns.kdeplot(data=df.ReturnPct, shade=True)\n",
    "\n",
    "plt.tight_layout()"
   ]
  },
  {
   "cell_type": "markdown",
   "metadata": {},
   "source": [
    "* We can see similiar observations as we saw in histogram of data"
   ]
  },
  {
   "cell_type": "code",
   "execution_count": 98,
   "metadata": {},
   "outputs": [
    {
     "data": {
      "image/png": "[encoded data removed]",
      "text/plain": [
       "<Figure size 1008x432 with 1 Axes>"
      ]
     },
     "metadata": {
      "needs_background": "light"
     },
     "output_type": "display_data"
    }
   ],
   "source": [
    "# Let's plot return percentage and mifid scores again because we've cleared the dataframe a little bit\n",
    "plt.figure(figsize=(14,6))\n",
    "sns.scatterplot(data=df[\"Mifid\"].values,label=\"Mifid\")\n",
    "plt.ylabel(\"Mifid\")\n",
    "plt.show()"
   ]
  },
  {
   "cell_type": "markdown",
   "metadata": {},
   "source": [
    "* Also we can see that on scatter plot too, vast majority of investors mifid score scaled between 6-8.5~"
   ]
  },
  {
   "cell_type": "code",
   "execution_count": 49,
   "metadata": {
    "scrolled": false
   },
   "outputs": [
    {
     "data": {
      "text/plain": [
       "Text(0, 0.5, 'Percentages')"
      ]
     },
     "execution_count": 49,
     "metadata": {},
     "output_type": "execute_result"
    },
    {
     "data": {
      "image/png": "[encoded data removed]",
      "text/plain": [
       "<Figure size 1008x432 with 1 Axes>"
      ]
     },
     "metadata": {
      "needs_background": "light"
     },
     "output_type": "display_data"
    }
   ],
   "source": [
    "# Let's plot return percentages\n",
    "plt.figure(figsize=(14,6))\n",
    "sns.scatterplot(data=df[(df[\"ReturnPct\"] < 100) & (df[\"ReturnPct\"] > -100)][\"ReturnPct\"].values)\n",
    "plt.ylabel(\"Percentages\")"
   ]
  },
  {
   "cell_type": "markdown",
   "metadata": {},
   "source": [
    "### Preparing the Model\n",
    "\n",
    "In this section we will seperate our data into dependant and independant variables, after we will split our data into train and test\n",
    "\n",
    "As a regression model, we will be using linear regression model from sklearn library\n",
    "\n",
    "We will anaylze prediction score with previous simple linear model and we will visualize prediction of model"
   ]
  },
  {
   "cell_type": "code",
   "execution_count": 50,
   "metadata": {},
   "outputs": [],
   "source": [
    "# Independant variables Horizon, Mifid, Current Balance\n",
    "X = df.iloc[:,[0,1,2]].values\n",
    "# Dependant(Target) Return Pct\n",
    "y = df.iloc[:,-1].values"
   ]
  },
  {
   "cell_type": "markdown",
   "metadata": {},
   "source": [
    "**I. Split data into train, test**"
   ]
  },
  {
   "cell_type": "code",
   "execution_count": 51,
   "metadata": {},
   "outputs": [],
   "source": [
    "from sklearn.model_selection import train_test_split as tts\n",
    "# Test size = %20\n",
    "X_train, X_test, y_train, y_test = tts(X,y,test_size=0.2, random_state=1)"
   ]
  },
  {
   "cell_type": "code",
   "execution_count": 52,
   "metadata": {},
   "outputs": [
    {
     "name": "stdout",
     "output_type": "stream",
     "text": [
      "How many samples do we have in our test and train datasets?\n",
      "X_train:  (397, 3)\n",
      "y_train:  (397,)\n",
      "X_test:  (100, 3)\n",
      "y_test:  (100,)\n"
     ]
    }
   ],
   "source": [
    "print('How many samples do we have in our test and train datasets?')\n",
    "print('X_train: ', np.shape(X_train))\n",
    "print('y_train: ', np.shape(y_train))\n",
    "print('X_test: ', np.shape(X_test))\n",
    "print('y_test: ', np.shape(y_test))"
   ]
  },
  {
   "cell_type": "markdown",
   "metadata": {},
   "source": [
    "**II. Sklearn Library Linear Regression Model**"
   ]
  },
  {
   "cell_type": "code",
   "execution_count": 53,
   "metadata": {},
   "outputs": [
    {
     "data": {
      "text/plain": [
       "LinearRegression(copy_X=True, fit_intercept=True, n_jobs=None, normalize=False)"
      ]
     },
     "execution_count": 53,
     "metadata": {},
     "output_type": "execute_result"
    }
   ],
   "source": [
    "from sklearn.linear_model import LinearRegression\n",
    "# To measure success of model later\n",
    "from sklearn.metrics import mean_squared_error, r2_score\n",
    "\n",
    "model = LinearRegression()\n",
    "model.fit(X_train,y_train)"
   ]
  },
  {
   "cell_type": "markdown",
   "metadata": {},
   "source": [
    "**III. Predictions by using model**"
   ]
  },
  {
   "cell_type": "code",
   "execution_count": 54,
   "metadata": {},
   "outputs": [],
   "source": [
    "y_pred = model.predict(X_test)"
   ]
  },
  {
   "cell_type": "code",
   "execution_count": 55,
   "metadata": {},
   "outputs": [
    {
     "data": {
      "text/html": [
       "<div>\n",
       "<style scoped>\n",
       "    .dataframe tbody tr th:only-of-type {\n",
       "        vertical-align: middle;\n",
       "    }\n",
       "\n",
       "    .dataframe tbody tr th {\n",
       "        vertical-align: top;\n",
       "    }\n",
       "\n",
       "    .dataframe thead th {\n",
       "        text-align: right;\n",
       "    }\n",
       "</style>\n",
       "<table border=\"1\" class=\"dataframe\">\n",
       "  <thead>\n",
       "    <tr style=\"text-align: right;\">\n",
       "      <th></th>\n",
       "      <th>Actual</th>\n",
       "      <th>Predicted</th>\n",
       "    </tr>\n",
       "  </thead>\n",
       "  <tbody>\n",
       "    <tr>\n",
       "      <th>0</th>\n",
       "      <td>9.703131</td>\n",
       "      <td>6.128772</td>\n",
       "    </tr>\n",
       "    <tr>\n",
       "      <th>1</th>\n",
       "      <td>7.109737</td>\n",
       "      <td>8.725038</td>\n",
       "    </tr>\n",
       "    <tr>\n",
       "      <th>2</th>\n",
       "      <td>-0.001800</td>\n",
       "      <td>7.941639</td>\n",
       "    </tr>\n",
       "    <tr>\n",
       "      <th>3</th>\n",
       "      <td>3.542185</td>\n",
       "      <td>7.416972</td>\n",
       "    </tr>\n",
       "    <tr>\n",
       "      <th>4</th>\n",
       "      <td>5.908348</td>\n",
       "      <td>9.265654</td>\n",
       "    </tr>\n",
       "    <tr>\n",
       "      <th>...</th>\n",
       "      <td>...</td>\n",
       "      <td>...</td>\n",
       "    </tr>\n",
       "    <tr>\n",
       "      <th>95</th>\n",
       "      <td>0.187074</td>\n",
       "      <td>3.509602</td>\n",
       "    </tr>\n",
       "    <tr>\n",
       "      <th>96</th>\n",
       "      <td>3.736888</td>\n",
       "      <td>6.989494</td>\n",
       "    </tr>\n",
       "    <tr>\n",
       "      <th>97</th>\n",
       "      <td>7.835526</td>\n",
       "      <td>8.244520</td>\n",
       "    </tr>\n",
       "    <tr>\n",
       "      <th>98</th>\n",
       "      <td>6.400912</td>\n",
       "      <td>8.999624</td>\n",
       "    </tr>\n",
       "    <tr>\n",
       "      <th>99</th>\n",
       "      <td>7.209521</td>\n",
       "      <td>7.959365</td>\n",
       "    </tr>\n",
       "  </tbody>\n",
       "</table>\n",
       "<p>100 rows × 2 columns</p>\n",
       "</div>"
      ],
      "text/plain": [
       "      Actual  Predicted\n",
       "0   9.703131   6.128772\n",
       "1   7.109737   8.725038\n",
       "2  -0.001800   7.941639\n",
       "3   3.542185   7.416972\n",
       "4   5.908348   9.265654\n",
       "..       ...        ...\n",
       "95  0.187074   3.509602\n",
       "96  3.736888   6.989494\n",
       "97  7.835526   8.244520\n",
       "98  6.400912   8.999624\n",
       "99  7.209521   7.959365\n",
       "\n",
       "[100 rows x 2 columns]"
      ]
     },
     "execution_count": 55,
     "metadata": {},
     "output_type": "execute_result"
    }
   ],
   "source": [
    "# Create a new dataframe to see actual return pct and predicted return pct\n",
    "model_prediction = pd.DataFrame({\"Actual\": y_test, \"Predicted\":y_pred})\n",
    "model_prediction"
   ]
  },
  {
   "cell_type": "markdown",
   "metadata": {},
   "source": [
    "* Our model is doing pretty bad job at predicting negative return percentages"
   ]
  },
  {
   "cell_type": "code",
   "execution_count": 56,
   "metadata": {},
   "outputs": [
    {
     "data": {
      "text/plain": [
       "0.09434943147910102"
      ]
     },
     "execution_count": 56,
     "metadata": {},
     "output_type": "execute_result"
    }
   ],
   "source": [
    "model.score(X_test,y_test)"
   ]
  },
  {
   "cell_type": "markdown",
   "metadata": {},
   "source": [
    "Compare with previous simple linear regression score with -4600~, new model is doing way better than previous"
   ]
  },
  {
   "cell_type": "markdown",
   "metadata": {},
   "source": [
    "**IV. Visualization of predictions**"
   ]
  },
  {
   "cell_type": "code",
   "execution_count": 57,
   "metadata": {},
   "outputs": [
    {
     "data": {
      "text/plain": [
       "<matplotlib.axes._subplots.AxesSubplot at 0x7fea8c221690>"
      ]
     },
     "execution_count": 57,
     "metadata": {},
     "output_type": "execute_result"
    },
    {
     "data": {
      "image/png": "[encoded data removed]",
      "text/plain": [
       "<Figure size 1008x432 with 1 Axes>"
      ]
     },
     "metadata": {
      "needs_background": "light"
     },
     "output_type": "display_data"
    }
   ],
   "source": [
    "plt.figure(figsize=(14,6))\n",
    "sns.lineplot(data=model_prediction.Actual.values,label = \"Actual\")\n",
    "sns.lineplot(data=model_prediction.Predicted.values, label= \"Predicted\")"
   ]
  },
  {
   "cell_type": "markdown",
   "metadata": {},
   "source": [
    "## Result:\n",
    "\n",
    "We've developed a two different model with supervised learning, we've used linear regression model in both example\n",
    "\n",
    "Here is our observations:\n",
    "* In first simple linear regression, correlation between dependant and independant variable were so bad therefore we got model with very low score.\n",
    "\n",
    "To improve this score and performance our model, we decided to use another perspective which was multiple linear regression.\n",
    "\n",
    "* Our main goal was to increase correlation between features and return percentage\n",
    "* We've analyzed data to detect closed accounts first because they had no influence on data and they just were decreasing correlation, so that we deleted them\n",
    "* We also deleted the accounts with zero return percentage, they got into system with their initial value but they never gain any return percentage from system, so that we deleted them to improve correlation\n",
    "* Secondary, we checked if is there any outliers data, due to huge amount of outliers we couldn't just delete them because our data could be affected by lack of data\n",
    "* Compared to our previous model, we achieved a good increase in our correlation values thanks to the manipulations we made on the data, and this was reflected in the success of our model\n",
    "* Although the success of our new model is not too high, it is obvious that it has made a great improvement compared to the previous model (from -4460 to 0.098 ~)\n",
    "* Thanks to observation that we've gained from plots, we had the opportunity to better understand the data"
   ]
  },
  {
   "cell_type": "code",
   "execution_count": null,
   "metadata": {},
   "outputs": [],
   "source": []
  }
 ],
 "metadata": {
  "kernelspec": {
   "display_name": "Python 3",
   "language": "python",
   "name": "python3"
  },
  "language_info": {
   "codemirror_mode": {
    "name": "ipython",
    "version": 3
   },
   "file_extension": ".py",
   "mimetype": "text/x-python",
   "name": "python",
   "nbconvert_exporter": "python",
   "pygments_lexer": "ipython3",
   "version": "3.7.6"
  }
 },
 "nbformat": 4,
 "nbformat_minor": 4
}
